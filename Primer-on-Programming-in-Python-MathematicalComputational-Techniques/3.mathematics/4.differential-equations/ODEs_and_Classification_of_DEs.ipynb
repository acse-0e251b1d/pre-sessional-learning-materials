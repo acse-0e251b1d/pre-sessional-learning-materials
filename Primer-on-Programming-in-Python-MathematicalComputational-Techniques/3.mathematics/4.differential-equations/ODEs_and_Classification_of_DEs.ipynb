{
 "cells": [
  {
   "cell_type": "code",
   "execution_count": null,
   "metadata": {},
   "outputs": [],
   "source": []
  },
  {
   "cell_type": "markdown",
   "metadata": {},
   "source": [
    "#!/usr/bin/env python \n",
    "## Maths Methods 1\n",
    "## Lecture 7 (ODEs)"
   ]
  },
  {
   "cell_type": "code",
   "execution_count": 1,
   "metadata": {},
   "outputs": [],
   "source": [
    "import numpy\n",
    "import pylab\n",
    "from math import pi, exp\n",
    "from sympy import sin, cos, Function, Symbol, diff, integrate, dsolve, checkodesol, solve, ode_order, classify_ode, pprint"
   ]
  },
  {
   "cell_type": "markdown",
   "metadata": {},
   "source": []
  },
  {
   "cell_type": "code",
   "execution_count": 7,
   "metadata": {},
   "outputs": [
    {
     "name": "stdout",
     "output_type": "stream",
     "text": [
      "ODE #1: \n",
      "\n",
      "         d       \n",
      "η⋅v(t) + ──(v(t))\n",
      "         dt      \n",
      "The order of ODE #1 is 1\n",
      "\n",
      "ODE #2: \n",
      "\n",
      "             2      \n",
      "            d       \n",
      "k⋅x(t) + m⋅───(x(t))\n",
      "             2      \n",
      "           dt       \n",
      "The order of ODE #2 is 2\n",
      "\n",
      "ODE #3: \n",
      "\n",
      "    2           4      \n",
      "   d           d       \n",
      "- ───(y(t)) + ───(y(t))\n",
      "    2           4      \n",
      "  dt          dt       \n",
      "The order of ODE #3 is 4\n",
      "\n"
     ]
    }
   ],
   "source": [
    "###### ORDER OF AN ODE ######\n",
    "###### Lecture 7, slide 9 ######\n",
    "t = Symbol('t') # Independent variable\n",
    "eta = Symbol('eta') # Constant\n",
    "v = Function('v') # Dependent variable v(t)\n",
    "ode = diff(v(t),t) + eta*v(t) # The ODE we wish to solve. Make sure the RHS is equal to zero.\n",
    "print (\"ODE #1: \\n\")\n",
    "pprint(ode)\n",
    "print (\"The order of ODE #1 is %d\\n\" % ode_order(ode, v(t)))\n",
    "x = Function('x') # Dependent variable x(t)\n",
    "m = Symbol('m') # Constant\n",
    "k = Symbol('k') # Constant\n",
    "ode = m*diff(x(t),t,2) + k*x(t)\n",
    "print (\"ODE #2: \\n\")\n",
    "pprint(ode)\n",
    "print (\"The order of ODE #2 is %d\\n\" % ode_order(ode, x(t)))\n",
    "y = Function('y') # Dependent variable y(t)\n",
    "ode = diff(y(t),t,4) - diff(y(t),t,2)\n",
    "print (\"ODE #3: \\n\")\n",
    "pprint(ode)\n",
    "print (\"The order of ODE #3 is %d\\n\" % ode_order(ode, y(t)))"
   ]
  },
  {
   "cell_type": "code",
   "execution_count": 12,
   "metadata": {},
   "outputs": [
    {
     "name": "stdout",
     "output_type": "stream",
     "text": [
      "ODE #4: \n",
      "\n",
      "                  d       \n",
      "-2⋅x⋅(1 - y(x)) + ──(y(x))\n",
      "                  dx      \n",
      "The solution to ODE #4 is:  Eq(y(x), C1*exp(-x**2) + 1)\n",
      "\n",
      "Checking solution using checkodesol...\n",
      "y(x) is indeed a solution to ODE #4.\n",
      "\n"
     ]
    }
   ],
   "source": [
    "###### ANALYTICAL SOLUTIONS ######\n",
    "###### Lecture 7, slide 14 ######\n",
    "x = Symbol('x') # Independent variable\n",
    "y = Function('y') # Dependent variable y(x)\n",
    "# The ODE we wish to solve. Make sure the RHS is equal to zero.\n",
    "ode = diff(y(x),x) - 2*x*(1-y(x))\n",
    "solution = dsolve(ode, y(x)) # Solve the ode for function y(x).\n",
    "print (\"ODE #4: \\n\")\n",
    "pprint(ode)\n",
    "print (\"The solution to ODE #4 is: \", solution)\n",
    "# This function checks that the result of dsolve is indeed a solution\n",
    "# to the ode. Basically it substitutes in 'solution' into 'ode' and\n",
    "# checks that the RHS is zero. If it is, the function returns ’True’.\n",
    "print( \"\\nChecking solution using checkodesol...\")\n",
    "check = checkodesol(ode, solution, y(x))\n",
    "if(check[0] == True):\n",
    " print (\"y(x) is indeed a solution to ODE #4.\\n\")\n",
    "else:\n",
    " print (\"y(x) is NOT a solution to ODE #4.\\n\")\n",
    " \n",
    "# The mpmath module can handle initial conditions (x0, y0) when solving an\n",
    "# initial value problem, using the odefun function. However, this will\n",
    "# not give you an analytical solution to the ODE, only a numerical\n",
    "# solution. The print statement below compares the numerical solution\n",
    "# with the values of the (already known) analytical solution between x=0 and x=10.\n",
    "# Remember to uncomment the lines below if you have the mpmath module installed.\n",
    "#import mpmath\n",
    "#f = mpmath.odefun(lambda x, y: 2*x*(1-y), x0=0, y0=2)\n",
    "#for x in numpy.linspace(0, 10, 100):\n",
    " #print(f(x), 1.0 + exp(-x**2))"
   ]
  },
  {
   "cell_type": "code",
   "execution_count": 9,
   "metadata": {},
   "outputs": [
    {
     "name": "stdout",
     "output_type": "stream",
     "text": [
      "\n",
      "ODE #5:\n",
      "              d       \n",
      "          1.0⋅──(y(x))\n",
      "              dx      \n",
      "-cos(x) + ────────────\n",
      "              y(x)    \n",
      "The solution to ODE #5 is:  Eq(y(x), C1*exp(1.0*sin(x)))\n",
      "\n",
      "ODE #6:\n",
      "                 d       \n",
      "2⋅x⋅y(x) - 2⋅x + ──(y(x))\n",
      "                 dx      \n",
      "The solution to ODE #6 is:  Eq(y(x), C1*exp(-x**2) + 1)\n"
     ]
    }
   ],
   "source": [
    "###### SEPARATION OF VARIABLES ######\n",
    "###### Lecture 7, slide 20 ######\n",
    "x = Symbol('x') # Independent variable\n",
    "y = Function('y') # Dependent variable y(x)\n",
    "# The ODE we wish to solve.\n",
    "ode = (1.0/y(x))*diff(y(x),x) - cos(x)\n",
    "print (\"\\nODE #5:\")\n",
    "pprint(ode)\n",
    "# Solve the ode for function y(x).using separation of variables.\n",
    "# Note that the optional 'hint' argument here has been used\n",
    "# to tell SymPy how to solve the ODE. However, it is usually\n",
    "# smart enough to work it out for itself.\n",
    "solution = dsolve(ode, y(x), hint='separable')\n",
    "print (\"The solution to ODE #5 is: \", solution)\n",
    "###### INTEGRATION FACTOR ######\n",
    "###### Lecture 7, slide 23 ######\n",
    "x = Symbol('x') # Independent variable\n",
    "y = Function('y') # Dependent variable y(x)\n",
    "# The ODE we wish to solve.\n",
    "ode = diff(y(x),x) - 2*x + 2*x*y(x)\n",
    "print (\"\\nODE #6:\")\n",
    "pprint(ode)\n",
    "# Solve the ode for function y(x).using separation of variables\n",
    "solution = dsolve(ode, y(x))\n",
    "print (\"The solution to ODE #6 is: \", solution)"
   ]
  },
  {
   "cell_type": "code",
   "execution_count": 10,
   "metadata": {},
   "outputs": [
    {
     "name": "stdout",
     "output_type": "stream",
     "text": [
      "\n",
      "ODE #7:\n",
      "         d       \n",
      "l⋅N(t) + ──(N(t))\n",
      "         dt      \n",
      "The solution to ODE #7 is:  Eq(N(t), C1*exp(-l*t))\n"
     ]
    }
   ],
   "source": [
    "###### APPLICATION: RADIOACTIVE DECAY ######\n",
    "###### Lecture 7, slide 26 ######\n",
    "t = Symbol('t') # Independent variable\n",
    "N = Function('N') # Dependent variable N(t)\n",
    "l = Symbol('l') # Constant\n",
    "# The ODE we wish to solve.\n",
    "ode = diff(N(t),t) + l*N(t)\n",
    "print (\"\\nODE #7:\")\n",
    "pprint(ode)\n",
    "solution = dsolve(ode, N(t))\n",
    "print (\"The solution to ODE #7 is: \", solution)"
   ]
  },
  {
   "cell_type": "code",
   "execution_count": 11,
   "metadata": {},
   "outputs": [
    {
     "name": "stdout",
     "output_type": "stream",
     "text": [
      "\n",
      "ODE #8:\n",
      "  g⋅(-ρ_f + ρₚ)   d          9⋅η⋅v(t)\n",
      "- ───────────── + ──(v(t)) + ────────\n",
      "        ρₚ        dt            2    \n",
      "                             2⋅a ⋅ρₚ \n",
      "The solution to ODE #8 is:  Eq(v(t), C1*exp(-9*eta*t/(2*a**2*rho_p)) - 2*a**2*g*rho_f/(9*eta) + 2*a**2*g*rho_p/(9*eta))\n"
     ]
    }
   ],
   "source": [
    "###### APPLICATION: PARTICLE SETTLING ######\n",
    "###### Lecture 7, slide 31 ######\n",
    "t = Symbol('t') # Independent variable - time\n",
    "v = Function('v') # Dependent variable v(t) - the particle velocity\n",
    "# Physical constants\n",
    "rho_f = Symbol('rho_f') # Fluid density\n",
    "rho_p = Symbol('rho_p') # Particle density\n",
    "eta = Symbol('eta') # Viscosity\n",
    "g = Symbol('g') # Gravitational acceleration\n",
    "a = Symbol('a') # Particle radius\n",
    "# The ODE we wish to solve.\n",
    "ode = diff(v(t),t) - ((rho_p - rho_f)/rho_p)*g + (9*eta/(2*(a**2)*rho_p))*v(t)\n",
    "print (\"\\nODE #8:\")\n",
    "pprint(ode)\n",
    "solution = dsolve(ode, v(t))\n",
    "print (\"The solution to ODE #8 is: \", solution)"
   ]
  }
 ],
 "metadata": {
  "kernelspec": {
   "display_name": "Python 3.9.12 ('base')",
   "language": "python",
   "name": "python3"
  },
  "language_info": {
   "codemirror_mode": {
    "name": "ipython",
    "version": 3
   },
   "file_extension": ".py",
   "mimetype": "text/x-python",
   "name": "python",
   "nbconvert_exporter": "python",
   "pygments_lexer": "ipython3",
   "version": "3.9.12"
  },
  "orig_nbformat": 4,
  "vscode": {
   "interpreter": {
    "hash": "88279d2366fe020547cde40dd65aa0e3aa662a6ec1f3ca12d88834876c85e1a6"
   }
  }
 },
 "nbformat": 4,
 "nbformat_minor": 2
}
