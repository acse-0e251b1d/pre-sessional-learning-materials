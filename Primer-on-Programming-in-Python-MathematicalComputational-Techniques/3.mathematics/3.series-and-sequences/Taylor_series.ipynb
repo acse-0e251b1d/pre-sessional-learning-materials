{
 "cells": [
  {
   "cell_type": "markdown",
   "metadata": {},
   "source": [
    "(taylor_series)=\n",
    "# Taylor series\n",
    "\n",
    "A Taylor series is a method by which we can approximate an arbitrary function by a sum of terms made up of that function and its derivatives at a single point.\n",
    "\n",
    "This concept underlies many things (especially in computational science) so it's worth us spending some time reviewing it.\n"
   ]
  },
  {
   "cell_type": "markdown",
   "metadata": {},
   "source": [
    "## Motivation - a constant approximation\n",
    "\n",
    "Consider a function of a single independent variable:  $f(x)$\n",
    "\n",
    "Suppose this function is really really expensive to evaluate. Suppose I have already evaluated it at a single $x$ value, call it $x_0$, i.e. I know the value of $f(x_0)$.\n",
    "\n",
    "Given only this information, what is the best guess (estimation/approximation) I can make for $f(x)$ for a choice $x\\ne x_0$?\n",
    "\n",
    "Well I can't really do anything better than \n",
    "\n",
    "$$  f(x) \\approx f(x_0)$$\n",
    "\n",
    "This may seem a hopeless approximation, but it can be used in some situations. Pretend $f$ is a weather forecast and $x$ is time. This just says that for a forecast of the weather tomorrow use what we see today - this is a real technique called [*persistent forecast*](https://en.wikipedia.org/wiki/Weather_forecasting#Persistence) (\"today equals tomorrow\").\n",
    "\n",
    "\"... This makes persistence a 'hard to beat' method for forecasting longer time periods\": <http://ww2010.atmos.uiuc.edu/(Gh)/guides/mtr/fcst/mth/prst.rxml>\n",
    "\n",
    "Let's consider an example:"
   ]
  },
  {
   "cell_type": "code",
   "execution_count": 1,
   "metadata": {},
   "outputs": [],
   "source": [
    "%matplotlib inline\n",
    "import numpy as np\n",
    "import matplotlib.pyplot as plt"
   ]
  },
  {
   "cell_type": "code",
   "execution_count": 2,
   "metadata": {},
   "outputs": [],
   "source": [
    "def f(x):\n",
    "    return np.exp(x)"
   ]
  },
  {
   "cell_type": "markdown",
   "metadata": {},
   "source": [
    "and plot our current situation, assuming that $x_0=0$. We call this the expansion point - we are constructing an approximation \"around this point\"."
   ]
  },
  {
   "cell_type": "code",
   "execution_count": 3,
   "metadata": {},
   "outputs": [
    {
     "data": {
      "text/plain": [
       "<matplotlib.legend.Legend at 0x1fd0e726bb0>"
      ]
     },
     "execution_count": 3,
     "metadata": {},
     "output_type": "execute_result"
    },
    {
     "data": {
      "image/png": "[encoded data removed]",
      "text/plain": [
       "<Figure size 504x504 with 1 Axes>"
      ]
     },
     "metadata": {
      "needs_background": "light"
     },
     "output_type": "display_data"
    }
   ],
   "source": [
    "fig = plt.figure(figsize=(7, 7))\n",
    "ax1 = plt.subplot(111)\n",
    "\n",
    "ax1.set_title('A constant approximation', fontsize=16)\n",
    "ax1.set_xlabel('$x$', fontsize=16)\n",
    "\n",
    "# define our x for plotting purposes\n",
    "x = np.linspace(-3., 3., 1000)\n",
    "\n",
    "# plot exact function\n",
    "ax1.plot(x, f(x), 'k', lw=3, label='Exact function')\n",
    "\n",
    "# define our approximation\n",
    "x0 = 0.0\n",
    "y = f(x0)*np.ones_like(x)\n",
    "ax1.plot(x0, f(x0), 'ro', label='Expansion point')\n",
    "\n",
    "# and plot the constant approximation\n",
    "ax1.plot(x, y, 'b', lw=2, label='Constant approximation')\n",
    "\n",
    "ax1.legend(loc='best', fontsize=14)"
   ]
  },
  {
   "cell_type": "markdown",
   "metadata": {},
   "source": [
    "Can I have any confidence in this guess?\n",
    "\n",
    "\n",
    "1. Yes if it turns out that the function $f$ is actually a constant.\n",
    "\n",
    "\n",
    "2. Yes, if I can assume that $f$ doesn't vary very much in the vicinity of $x_0$, and if we are interested in $x$ values that are close to $x_0$.\n",
    "\n",
    "\n",
    "How can I do better?"
   ]
  },
  {
   "cell_type": "markdown",
   "metadata": {},
   "source": [
    "## Motivation - a linear approximation (a \"linearisation\")\n",
    "\n",
    "The obvious improvement we can make is to approximate the true function with a linear approximation rather than a constant. \n",
    "\n",
    "This is a common way to write a linear function:\n",
    "\n",
    "$$ y = mx + c$$\n",
    "\n",
    "where $m$ is the slope and $c$ is the intercept - the $y$ value the line hits the $x=0$ axis at.\n",
    "\n",
    "We consider an approximation, or an expansion, (or in this case a \"linearisation\") \"about a point\".  \n",
    "\n",
    "For us the point is $x_0$ and it makes sense for us to make the slope of the linear approximation the same as the derivative of the function at this point.  \n",
    "\n",
    "So we are now using the value of $f$ at $x_0$ AND the value of the derivative of $f$ at $x_0$:  $m = f'(x_0)$.\n",
    "\n",
    "This is the formula for the linear line with this slope:\n",
    "\n",
    "$$ y = f'(x_0) x + c$$\n",
    "\n",
    "where choice of $c$ moves the linear line up and down. We want it to pass through the function at $x_0$ as well of course, and this allows us to figure out what value $c$ should take.\n",
    "\n",
    "Actually we generally write the linearisation in the following form\n",
    "\n",
    "$$ f(x) \\approx f(x_0) + (x-x_0)f'(x_0)$$\n",
    "\n",
    "so when $(x-x_0)$ is zero, we are at the expansion point and we indeed get $f(x_0)$ on the RHS. As we move away from that point $(x-x_0)$ grows and our approximation adds a correction based on the size of the derivative at $x_0$.\n",
    "\n",
    "Let's plot this. First we need to define the derivative:"
   ]
  },
  {
   "cell_type": "code",
   "execution_count": 5,
   "metadata": {},
   "outputs": [],
   "source": [
    "# of course for our example f this is trivial:\n",
    "def fx(x):\n",
    "    return np.exp(x)"
   ]
  },
  {
   "cell_type": "code",
   "execution_count": 8,
   "metadata": {},
   "outputs": [
    {
     "data": {
      "text/plain": [
       "<matplotlib.legend.Legend at 0x1fd0f006940>"
      ]
     },
     "execution_count": 8,
     "metadata": {},
     "output_type": "execute_result"
    },
    {
     "data": {
      "image/png": "[encoded data removed]",
      "text/plain": [
       "<Figure size 504x504 with 1 Axes>"
      ]
     },
     "metadata": {
      "needs_background": "light"
     },
     "output_type": "display_data"
    }
   ],
   "source": [
    "fig = plt.figure(figsize=(7, 7))\n",
    "ax1 = plt.subplot(111)\n",
    "\n",
    "ax1.set_title('A constant approximation', fontsize=16)\n",
    "ax1.set_xlabel('$x$', fontsize=16)\n",
    "\n",
    "# define our x for plotting purposes\n",
    "x = np.linspace(-3., 3., 1000)\n",
    "\n",
    "# plot exact function\n",
    "ax1.plot(x, f(x), 'k', lw=3, label='Exact function')\n",
    "\n",
    "# define our approximation\n",
    "x0 = 0.0\n",
    "y = (f(x0) + (x-x0)*fx(x0))*np.ones_like(x)\n",
    "ax1.plot(x0, f(x0), 'ro', label='Expansion point')\n",
    "\n",
    "# and plot the constant approximation\n",
    "ax1.plot(x, y, 'b', lw=2, label='Linear approximation')\n",
    "\n",
    "ax1.legend(loc='best', fontsize=14)\n"
   ]
  },
  {
   "cell_type": "markdown",
   "metadata": {},
   "source": [
    "This is clearly an improved approximation compared to the constant one.\n",
    "\n",
    "However the same accuracy points hold: if we are a long way from the expansion point, or if $f$ is very complex, this may not be a good approximation.\n",
    "\n",
    "Can we do better - yes we can consider the curvature of the black line in addition to its value and its slope, i.e. we can include a term proportional to $f''(x_0)$ to our approximation.\n",
    "\n",
    "and so on..."
   ]
  },
  {
   "cell_type": "markdown",
   "metadata": {},
   "source": [
    "This is the formula for the infinite Taylor series *about (or around) the point $x_0$* \n",
    "\n",
    "$$f(x) = f(x_0) + (x - x_0) f'(x_0) + \\frac{(x - x_0)^2}{2!} f''(x_0) + \\frac{(x - x_0)^3}{3!} f'''(x_0) +\n",
    "\\frac{(x - x_0)^4}{4!} f^{(iv)}(x_0) + \\ldots$$\n",
    "\n",
    "An equivalent way of writing this expansion is\n",
    "\n",
    "$$ f(x_0+h)  = f(x_0) + hf'(x_0) + \\frac{h^2}{2!}f''(x_0) + \\frac{h^3}{3!}f'''(x_0) + \\ldots $$\n",
    "\n",
    "or replace $h$ by the notation $\\Delta x$ or $\\delta x$.\n",
    "\n",
    "As we include more and more terms our approximation improves - see the following animated gif from Wikipedia which explains the point."
   ]
  },
  {
   "cell_type": "markdown",
   "metadata": {},
   "source": [
    "#### Taylor series example\n",
    "\n",
    "*Wikipedia image: The exponential function (in blue), and the sum of the first (n + 1) terms of its Taylor series expansion around the point 0 (in red).*\n",
    "\n",
    "<img src=\"https://upload.wikimedia.org/wikipedia/commons/6/62/Exp_series.gif\" width=200x>\n",
    "\n",
    "\n",
    "More terms equate with a better approximation valid a larger distance from $x_0$. "
   ]
  },
  {
   "cell_type": "markdown",
   "metadata": {},
   "source": [
    "### Aside: Big O notation\n",
    "\n",
    "When talking about terms in infinite series (terms we will often be forces to truncate, i.e. throw away), or talking about errors, convergence, complexity, run times etc, so-called [Big-O](https://en.wikipedia.org/wiki/Big_O_notation) notation is very useful."
   ]
  },
  {
   "cell_type": "markdown",
   "metadata": {},
   "source": [
    "As an alternative to writing \"$ \\ldots $\" in the above infinite expansions, we can also write \n",
    "\n",
    "$$f(x) = f(x_0) + (x - x_0) f'(x_0) + \\frac{(x - x_0)^2}{2!} f''(x_0) + \\frac{(x - x_0)^3}{3!} f'''(x_0) + \\mathcal{O}((x - x_0)^4)$$\n",
    "\n",
    "or\n",
    "\n",
    "$$ f(x_0+h) = f(x_0) + hf'(x_0) + \\frac{h^2}{2!}f''(x_0) + \\frac{h^3}{3!}f'''(x_0) + \\mathcal{O}(h^4) $$\n",
    "\n",
    "\n",
    "What does this mean?"
   ]
  },
  {
   "cell_type": "markdown",
   "metadata": {},
   "source": [
    "**LINK TO THE NOTEBOOK ON BIG O NOTATION**\n",
    "\n"
   ]
  },
  {
   "cell_type": "markdown",
   "metadata": {},
   "source": [
    "## Truncation error\n",
    "\n",
    "In principle we can use Taylor series to approximate a (sufficiently smooth) function with arbitrary accuracy as long as we use sufficiently many terms, but in practice we will have to truncate.\n",
    "\n",
    "In the next section we will use similar ideas to compute an approximate solution to a differential equations, we will do this by approximating the operation of taking a derivative. \n",
    "\n",
    "Again by making use of enough terms from a Taylor series we can construct approximations of derivatives with arbitrary accuracy, but again in practice we will have to truncate.\n",
    "\n",
    "In both cases the act of limiting the number of terms we use introduces an error.\n",
    "\n",
    "Since we are truncating an infinite series at some point, this type of error is often called a [*truncation error*](https://en.wikipedia.org/wiki/Truncation_error). "
   ]
  },
  {
   "cell_type": "markdown",
   "metadata": {},
   "source": [
    "## **FURTHER READING:**\n",
    "\n",
    "For an application of Taylor series see the notebook on timestepping ODEs"
   ]
  },
  {
   "cell_type": "code",
   "execution_count": null,
   "metadata": {},
   "outputs": [],
   "source": []
  }
 ],
 "metadata": {
  "kernelspec": {
   "display_name": "Python 3.9.12 ('base')",
   "language": "python",
   "name": "python3"
  },
  "language_info": {
   "codemirror_mode": {
    "name": "ipython",
    "version": 3
   },
   "file_extension": ".py",
   "mimetype": "text/x-python",
   "name": "python",
   "nbconvert_exporter": "python",
   "pygments_lexer": "ipython3",
   "version": "3.9.12"
  },
  "toc": {
   "base_numbering": 1,
   "nav_menu": {},
   "number_sections": true,
   "sideBar": true,
   "skip_h1_title": true,
   "title_cell": "Table of Contents",
   "title_sidebar": "Contents",
   "toc_cell": true,
   "toc_position": {},
   "toc_section_display": true,
   "toc_window_display": false
  },
  "vscode": {
   "interpreter": {
    "hash": "88279d2366fe020547cde40dd65aa0e3aa662a6ec1f3ca12d88834876c85e1a6"
   }
  }
 },
 "nbformat": 4,
 "nbformat_minor": 4
}
