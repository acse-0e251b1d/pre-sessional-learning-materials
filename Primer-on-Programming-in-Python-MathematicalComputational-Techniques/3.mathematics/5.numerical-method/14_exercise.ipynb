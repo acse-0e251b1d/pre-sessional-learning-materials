{
 "cells": [
  {
   "cell_type": "code",
   "execution_count": 5,
   "metadata": {},
   "outputs": [
    {
     "name": "stdout",
     "output_type": "stream",
     "text": [
      "A [[10.  2.  1.]\n",
      " [ 6.  5.  4.]\n",
      " [ 1.  4.  7.]]\n",
      "scipy norm 15.748015748023622\n",
      "maximum absolute row-sum 15.0\n",
      "maximum absolute column-sum 17.0\n",
      "scipy spectral norm 13.793091098640064\n",
      "spectral norm by hand 13.793091098640062\n"
     ]
    }
   ],
   "source": [
    "import numpy as np\n",
    "import scipy.linalg as sl\n",
    "\n",
    "A = np.array([\n",
    "                [10., 2., 1.],\n",
    "                [6., 5., 4.],\n",
    "                [1., 4., 7.]\n",
    "])\n",
    "print('A',A)\n",
    "print('scipy norm',sl.norm(A,'fro'))\n",
    "print('maximum absolute row-sum',sl.norm(A,np.inf))\n",
    "print('maximum absolute column-sum', sl.norm(A,1))\n",
    "print('scipy spectral norm', sl.norm(A,2))\n",
    "print('spectral norm by hand', np.sqrt(np.real(np.max((sl.eigvals(A.T @ A))))))\n",
    "\n"
   ]
  },
  {
   "cell_type": "code",
   "execution_count": 7,
   "metadata": {},
   "outputs": [
    {
     "name": "stdout",
     "output_type": "stream",
     "text": [
      "A [[10.  2.  1.]\n",
      " [ 6.  5.  4.]\n",
      " [ 1.  4.  7.]]\n",
      "True\n"
     ]
    }
   ],
   "source": [
    "def frob(A):\n",
    "    m,n = A.shape\n",
    "    squsum = 0.0\n",
    "    for i in range(n):\n",
    "        for j in range(n):\n",
    "            squsum += A[i,j]**2\n",
    "    return np.sqrt(squsum)\n",
    "\n",
    "def mars(A):\n",
    "    m,n = A.shape\n",
    "    maxarsum = 0.0\n",
    "    for i in range(m):\n",
    "        arsum = np.sum(np.abs(A[i]))\n",
    "        if arsum > maxarsum:\n",
    "            maxarsum = arsum \n",
    "        else:\n",
    "            maxarsum = maxarsum\n",
    "    return maxarsum\n",
    "\n",
    "A = np.array([\n",
    "                [10., 2., 1.],\n",
    "                [6., 5., 4.],\n",
    "                [1., 4., 7.]\n",
    "])\n",
    "print('A',A)\n",
    "print(frob(A)==sl.norm(A,'fro') and mars(A) == sl.norm(A, np.inf))"
   ]
  },
  {
   "cell_type": "code",
   "execution_count": 19,
   "metadata": {},
   "outputs": [
    {
     "name": "stdout",
     "output_type": "stream",
     "text": [
      "A [[10.  2.  1.]\n",
      " [ 6.  5.  4.]\n",
      " [ 1.  4.  7.]]\n",
      "scipy cond(A)= 10.713371881346792\n",
      "default condition number uses matrix two-norm 10.713371881346786\n",
      "sl.norm(A,2) * sl.norm(sl.inv(A),2)= 10.713371881346786\n",
      "scipy frobenius cond(A) = 12.463616561943589\n",
      "sl.norm(A,'fro') * sl.norm(sl.linalg.cond(A,'fro'))= 12.463616561943587\n"
     ]
    }
   ],
   "source": [
    "A = np.array([[10.,2.,1.],[6.,5.,4.],[1.,4.,7.]])\n",
    "print('A',A)\n",
    "print('scipy cond(A)=',np.linalg.cond(A))\n",
    "print('default condition number uses matrix two-norm',sl.norm(A,2)*sl.norm(sl.inv(A),2))\n",
    "print('sl.norm(A,2) * sl.norm(sl.inv(A),2)=',sl.norm(A,2) * sl.norm(sl.inv(A),2))\n",
    "print('scipy frobenius cond(A) =',np.linalg.cond(A,'fro'))\n",
    "print(\"sl.norm(A,'fro') * sl.norm(sl.linalg.cond(A,'fro'))=\", sl.norm(A,'fro') * sl.norm(sl.inv(A),'fro'))"
   ]
  },
  {
   "cell_type": "code",
   "execution_count": 20,
   "metadata": {},
   "outputs": [
    {
     "name": "stdout",
     "output_type": "stream",
     "text": [
      "Matrix is singular, det(A) = 0.0\n",
      "Epsilon =0.001, det(A)=0.002, conda(A)=5001. inv(A)*b =  [ 1501.5 -3000. ]\n",
      "Epsilon =0.002, det(A)=0.004, conda(A)=2501. inv(A)*b =  [  751.5 -1500. ]\n",
      "Epsilon =0.003, det(A)=0.006, conda(A)=1667.67. inv(A)*b =  [  501.5 -1000. ]\n"
     ]
    }
   ],
   "source": [
    "A = np.array([[2.,1.],[2.,1.]])\n",
    "b = np.array([3.,0.0])\n",
    "\n",
    "print('Matrix is singular, det(A) =',sl.det(A))\n",
    "for i in range(3):\n",
    "    A[1,1] += 0.001\n",
    "    epsilon = A[1,1] - 1.0\n",
    "    print('Epsilon =%g, det(A)=%g, conda(A)=%g.'%(epsilon,sl.det(A),np.linalg.cond(A)),\n",
    "            'inv(A)*b = ', sl.inv(A)@b)"
   ]
  },
  {
   "cell_type": "code",
   "execution_count": 23,
   "metadata": {},
   "outputs": [],
   "source": [
    "import matplotlib.pyplot as plt\n",
    "def f1(x):\n",
    "    return (1. - x)**10\n",
    "\n",
    "def f2(x):\n",
    "    return (1.0 -10.*x**2 - 120.*x**3 +\n",
    "            210.*x**4 - 252.*x**5 + 210.*x**6 -\n",
    "            120.*x**7 + 45.*x**8 - 10.*x**9 + x**10)"
   ]
  },
  {
   "cell_type": "code",
   "execution_count": 25,
   "metadata": {},
   "outputs": [
    {
     "data": {
      "image/png": "[encoded data removed]",
      "text/plain": [
       "<Figure size 1008x216 with 3 Axes>"
      ]
     },
     "metadata": {
      "needs_background": "light"
     },
     "output_type": "display_data"
    }
   ],
   "source": [
    "xi = np.linspace(0,2,1000)\n",
    "fig, axes = plt.subplots(1,3,figsize=(14,3))\n",
    "ax1 = axes[0]\n",
    "ax2 = axes[1]\n",
    "ax3 = axes[2]\n",
    " \n",
    "ax1.plot(xi,f1(xi),label='unexpanded')\n",
    "ax1.plot(xi,f2(xi),label='expected')\n",
    "ax1.legend(loc='best')\n",
    "ax1.set_ylabel('$f(x)$', fontsize=14)\n",
    "\n",
    "ax2.plot(xi,1.-f1(xi)/f2(xi)**100, label='relative\\ndifference\\nin %')\n",
    "ax2.legend(loc='best')\n",
    "ax2.set_xlabel('x', fontsize=14)\n",
    "ax2.set_ylabel(r'$1-\\frac{unexpanded}{expanded}$', fontsize=14)\n",
    "\n",
    "ax3.set_xlim(0.75, 1.25)\n",
    "ax3.plot(xi, 1.-f1(xi)/f2(xi)*100, label='relative\\ndifference\\nin %')\n",
    "ax3.legend(loc='best')\n",
    "ax3.set_ylabel(r'$1-\\frac{unexpanded}{expanded}$', fontsize=14)\n",
    "\n",
    "plt.suptitle('Comparision of $(1-x)^{10}$ expansion', fontsize=14)\n",
    "plt.subplots_adjust(wspace=0.4)\n",
    "plt.show()"
   ]
  }
 ],
 "metadata": {
  "kernelspec": {
   "display_name": "Python 3.9.12 ('base')",
   "language": "python",
   "name": "python3"
  },
  "language_info": {
   "codemirror_mode": {
    "name": "ipython",
    "version": 3
   },
   "file_extension": ".py",
   "mimetype": "text/x-python",
   "name": "python",
   "nbconvert_exporter": "python",
   "pygments_lexer": "ipython3",
   "version": "3.9.12"
  },
  "orig_nbformat": 4,
  "vscode": {
   "interpreter": {
    "hash": "88279d2366fe020547cde40dd65aa0e3aa662a6ec1f3ca12d88834876c85e1a6"
   }
  }
 },
 "nbformat": 4,
 "nbformat_minor": 2
}
