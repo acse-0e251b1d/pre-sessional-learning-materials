{
 "cells": [
  {
   "cell_type": "markdown",
   "metadata": {},
   "source": [
    "Let’s write a function diff(f, x, dx = 1.0e-6) that returns the approximation of the derivative of a mathematical function represented by a Python function f(x)."
   ]
  },
  {
   "cell_type": "code",
   "execution_count": 1,
   "metadata": {},
   "outputs": [],
   "source": [
    "import numpy as np\n",
    "import matplotlib.pyplot as plt"
   ]
  },
  {
   "cell_type": "code",
   "execution_count": 2,
   "metadata": {},
   "outputs": [],
   "source": [
    "def diff(f,x,dx=1e-6):\n",
    "    numerator = f(x + dx) - f(x - dx)\n",
    "    derivative = numerator / (2.* dx)\n",
    "    return derivative"
   ]
  },
  {
   "cell_type": "markdown",
   "metadata": {},
   "source": [
    "Let’s apply the above formula to differentiate f(x)=ex at x=0, f(x)=e−2x at x=0, f(x)=cos(x) at x=2π, and f(x)=ln(x) at x=1.\n",
    "\n",
    "In each case, using Δx=0.01, let’s write out the error, i.e. the difference between the exact derivative and the result of the formula above."
   ]
  },
  {
   "cell_type": "code",
   "execution_count": 5,
   "metadata": {},
   "outputs": [
    {
     "name": "stdout",
     "output_type": "stream",
     "text": [
      "The approximate derivative of exp(x) at x = 0 is: 1.000017. The error is 0.000017.\n",
      "The approximate derivative of exp(-2x) at x = 0 is: -2.000133. The error is 0.000133.\n",
      "The approximate derivative of cos(x) at x = 2*pi is: 0.000000. The error is  0.000000.\n",
      "The approximate derivative of cos(x) at x = 2*pi is: 1.000033. The error is  0.000033.\n"
     ]
    }
   ],
   "source": [
    "dx = 0.01\n",
    "x = 0\n",
    "f = np.exp\n",
    "derivative = diff(f,x,dx)\n",
    "print(\"The approximate derivative of exp(x) at x = 0 is: %f. The error is %f.\" % (derivative, abs(derivative -1 )))\n",
    "\n",
    "x=0\n",
    "def g(x):\n",
    "    return np.exp(-2*x)\n",
    "derivative = diff(g,x,dx)\n",
    "print(\"The approximate derivative of exp(-2x) at x = 0 is: %f. The error is %f.\"%(derivative,abs(derivative -(-2.) )))\n",
    "\n",
    "x = 2*np.pi\n",
    "f = np.cos\n",
    "derivative = diff(f,x,dx)\n",
    "print(\"The approximate derivative of cos(x) at x = 2*pi is: %f. The error is  %f.\"%(derivative,abs(derivative -0 )))\n",
    "\n",
    "x = 1\n",
    "f = np.log\n",
    "derivative = diff(f,x,dx)\n",
    "print(\"The approximate derivative of cos(x) at x = 2*pi is: %f. The error is  %f.\"%(derivative,abs(derivative -1 )))"
   ]
  },
  {
   "cell_type": "code",
   "execution_count": 6,
   "metadata": {},
   "outputs": [],
   "source": [
    "def forward_diff(f,x,dx):\n",
    "    fx = f(x)\n",
    "    fxph = f(x + dx)\n",
    "    return (fxph - fx) / dx\n",
    "\n",
    "def central_diff(f,x,dx):\n",
    "    fxph = f(x + dx)\n",
    "    fxbh = f(x - dx)\n",
    "    return (fxph - fxbh) / (2*dx)\n",
    "    "
   ]
  },
  {
   "cell_type": "code",
   "execution_count": 7,
   "metadata": {},
   "outputs": [
    {
     "name": "stdout",
     "output_type": "stream",
     "text": [
      "exact derivative at sin(0.8) = 0.69671.\n"
     ]
    }
   ],
   "source": [
    "exact = np.cos(0.8)\n",
    "print(\"exact derivative at sin(0.8) = %.5f.\"%exact)\n"
   ]
  },
  {
   "cell_type": "code",
   "execution_count": 9,
   "metadata": {},
   "outputs": [
    {
     "name": "stdout",
     "output_type": "stream",
     "text": [
      "forward differencing                    central differencing\n",
      "  0.256492 (error=      0.44)      0.586258 (error=      0.11)\n",
      "  0.492404 (error=       0.2)      0.668038 (error=     0.029)\n",
      "  0.600269 (error=     0.096)      0.689472 (error=    0.0072)\n",
      "  0.650117 (error=     0.047)      0.694894 (error=    0.0018)\n",
      "  0.673843 (error=     0.023)      0.696253 (error=   0.00045)\n",
      "  0.685386 (error=     0.011)      0.696593 (error=   0.00011)\n",
      "  0.691074 (error=    0.0056)      0.696678 (error=   2.8e-05)\n",
      "  0.693897 (error=    0.0028)        0.6967 (error=   7.1e-06)\n",
      "  0.695304 (error=    0.0014)      0.696705 (error=   1.8e-06)\n",
      "  0.696006 (error=    0.0007)      0.696706 (error=   4.4e-07)\n"
     ]
    }
   ],
   "source": [
    "print('%20s%40s' %(\"forward differencing\",\"central differencing\"))\n",
    "fd_error = []\n",
    "cd_error = []\n",
    "dx_all = []\n",
    "dx = 1.0\n",
    "\n",
    "for i in range(10):\n",
    "    fd = forward_diff(np.sin, 0.8, dx)\n",
    "    cd = central_diff(np.sin, 0.8, dx)\n",
    "    print(\"%10g (error=%10.2g)    %10g (error=%10.2g)\" % \n",
    "            (fd,abs(fd - exact), cd, abs(cd - exact)))\n",
    "    dx_all.append(dx)\n",
    "    fd_error.append(abs(fd - exact))\n",
    "    cd_error.append(abs(cd - exact))\n",
    "    dx = dx / 2\n"
   ]
  },
  {
   "cell_type": "code",
   "execution_count": 11,
   "metadata": {},
   "outputs": [
    {
     "data": {
      "image/png": "[encoded data removed]",
      "text/plain": [
       "<Figure size 504x360 with 1 Axes>"
      ]
     },
     "metadata": {
      "needs_background": "light"
     },
     "output_type": "display_data"
    }
   ],
   "source": [
    "fig = plt.figure(figsize=(7,5))\n",
    "ax1 = plt.subplot(111)\n",
    "\n",
    "ax1.loglog(dx_all, fd_error, \"b.-\", label = \"forward diff\" )\n",
    "ax1.loglog(dx_all, cd_error, \"k.-\", label=\"central diff\")\n",
    "ax1.set_xlabel(\"$\\Delta x$\", fontsize=16)\n",
    "ax1.set_ylabel(\"error\", fontsize=16)\n",
    "ax1.set_title(\"convergence plot\",fontsize=16)\n",
    "ax1.grid(True)\n",
    "ax1.legend(loc='best',fontsize=14)\n",
    "plt.show()"
   ]
  }
 ],
 "metadata": {
  "kernelspec": {
   "display_name": "Python 3.9.12 ('base')",
   "language": "python",
   "name": "python3"
  },
  "language_info": {
   "codemirror_mode": {
    "name": "ipython",
    "version": 3
   },
   "file_extension": ".py",
   "mimetype": "text/x-python",
   "name": "python",
   "nbconvert_exporter": "python",
   "pygments_lexer": "ipython3",
   "version": "3.9.12"
  },
  "orig_nbformat": 4,
  "vscode": {
   "interpreter": {
    "hash": "88279d2366fe020547cde40dd65aa0e3aa662a6ec1f3ca12d88834876c85e1a6"
   }
  }
 },
 "nbformat": 4,
 "nbformat_minor": 2
}
