{
 "cells": [
  {
   "cell_type": "code",
   "execution_count": 1,
   "metadata": {},
   "outputs": [],
   "source": [
    "import numpy as np\n",
    "def upper_triangle(A,b):\n",
    "    n = np.size(b)\n",
    "    rows, cols = np.shape(A)\n",
    "    assert rows ==cols\n",
    "    assert rows == n\n",
    "    for k in range(n-1):#从第二列开始遍历主元下方所有列，k是正在处理的列号\n",
    "        for i in range(k+1,n):#遍历主元下面的所有行，i是行号\n",
    "            s = (A[i,k] / A[k,k])# 第i行元素除以其主元元素，消元需要的系数\n",
    "            for j in range(k,n):#遍历第i行下方元素\n",
    "                A[i,j] = A[i,j] -s*A[k,j]#消除后A[i,j]等于0\n",
    "            b[i] = b[i] -s*b[k]#更新方程右侧\n",
    "    return A,b"
   ]
  },
  {
   "cell_type": "code",
   "execution_count": null,
   "metadata": {},
   "outputs": [],
   "source": [
    "A = np.array([[2., 3., -4.],\n",
    "              [6., 8., 2.],\n",
    "              [4., 8., -6.]])\n",
    "b = np.array([5., 3., 19.])\n",
    "n = np.size(b)\n",
    "rows, cols = np.shape(A)\n",
    "assert rows ==cols\n",
    "assert rows == n\n",
    "for k in range(n-1):#n=3 k=0,1\n",
    "    print('k',k)\n",
    "    for i in range(k+1,n):#i=1,2;i=2 \n",
    "        print('i',i)\n",
    "        for j in range(k,n):#j=0,1,2;j=0,1,2;j=1,2\n",
    "            print('j',j)"
   ]
  },
  {
   "cell_type": "code",
   "execution_count": 2,
   "metadata": {},
   "outputs": [
    {
     "name": "stdout",
     "output_type": "stream",
     "text": [
      "our A matrix following row operations to transform it into upper-triangular form:\n",
      "[[ 2.   3. ]\n",
      " [ 0.  -5.5]]\n",
      "the correspondingly updated b vector:\n",
      "[ 7.  -0.5]\n"
     ]
    }
   ],
   "source": [
    "A = np.array([[2., 3.,],\n",
    "              [1., -4.]])\n",
    "b = np.array([7., 3.])\n",
    "A,b = upper_triangle(A,b)\n",
    "print('our A matrix following row operations to transform it into upper-triangular form:')\n",
    "print(A)\n",
    "print('the correspondingly updated b vector:')\n",
    "print(b)"
   ]
  },
  {
   "cell_type": "code",
   "execution_count": 3,
   "metadata": {},
   "outputs": [
    {
     "name": "stdout",
     "output_type": "stream",
     "text": [
      "\n",
      "Our A matrix following row operations to transform it into upper-triangular form:\n",
      "[[ 2.  3. -4.]\n",
      " [ 0. -1. 14.]\n",
      " [ 0.  0. 30.]]\n",
      "The correspondingly updated b vector:\n",
      "[  5. -12. -15.]\n"
     ]
    }
   ],
   "source": [
    "A = np.array([[2., 3., -4.],\n",
    "              [6., 8., 2.],\n",
    "              [4., 8., -6.]])\n",
    "b = np.array([5., 3., 19.])\n",
    "\n",
    "A, b = upper_triangle(A, b)\n",
    "\n",
    "print('\\nOur A matrix following row operations to transform it into upper-triangular form:')\n",
    "print(A)\n",
    "print('The correspondingly updated b vector:')\n",
    "print(b)"
   ]
  },
  {
   "cell_type": "code",
   "execution_count": 4,
   "metadata": {},
   "outputs": [
    {
     "name": "stdout",
     "output_type": "stream",
     "text": [
      "\n",
      "Our A matrix following row operations to transform it into upper-triangular form:\n",
      "[[ 2.  3. -4.]\n",
      " [ 0. -1. 14.]\n",
      " [ 0.  0. 30.]]\n",
      "The correspondingly updated b vector:\n",
      "[  5. -12. -15.]\n"
     ]
    }
   ],
   "source": [
    "A = np.array([[2., 3., -4.],\n",
    "              [6., 8., 2.],\n",
    "              [4., 8., -6.]])\n",
    "b = np.array([5., 3., 19.])\n",
    "\n",
    "A, b = upper_triangle(A, b)\n",
    "\n",
    "print('\\nOur A matrix following row operations to transform it into upper-triangular form:')\n",
    "print(A)\n",
    "print('The correspondingly updated b vector:')\n",
    "print(b)"
   ]
  },
  {
   "cell_type": "code",
   "execution_count": 8,
   "metadata": {},
   "outputs": [],
   "source": [
    "def back_substitution(A,b):\n",
    "    n = np.size(b)\n",
    "    rows, cols = np.shape(A)\n",
    "    assert(rows ==cols)\n",
    "    assert rows ==n\n",
    "    assert np.allclose(A, np.triu(A))\n",
    "    x = np.zeros(n)\n",
    "    for k in range(n-1, -1, -1):\n",
    "        s = 0.0\n",
    "        for j in range(k+1, n):\n",
    "            s = s + A[k,j] * x[j]\n",
    "        x[k] = (b[k] - s) / A[k,k]\n",
    "    return x"
   ]
  },
  {
   "cell_type": "code",
   "execution_count": 9,
   "metadata": {},
   "outputs": [
    {
     "name": "stdout",
     "output_type": "stream",
     "text": [
      "Our solution:  [-6.   5.  -0.5]\n",
      "SciPy solution:  [-6.   5.  -0.5]\n",
      "Success:  True\n"
     ]
    }
   ],
   "source": [
    "A = np.array([[2., 3., -4.],\n",
    "              [6., 8., 2.],\n",
    "              [4., 8., -6.]])\n",
    "b = np.array([5., 3., 19.])\n",
    "\n",
    "A_upp, b_upp = upper_triangle(A, b)\n",
    "\n",
    "# Print the solution using our codes\n",
    "x = back_substitution(A_upp, b_upp)\n",
    "print('Our solution: ',x)  \n",
    "\n",
    "# Check our answer against what SciPy gives us by multiplying b by A inverse \n",
    "import scipy.linalg as sl\n",
    "\n",
    "print('SciPy solution: ',sl.inv(A) @ b)\n",
    "print('Success: ', np.allclose(x, sl.inv(A) @ b))"
   ]
  },
  {
   "cell_type": "code",
   "execution_count": 10,
   "metadata": {},
   "outputs": [],
   "source": [
    "def upper_triangle2(A,B):\n",
    "    n ,m = np.shape(A)\n",
    "    assert(n == m)\n",
    "    for k in range(n-1):\n",
    "        for i in range(k+1,n):\n",
    "            s = (A[i,k] / A[k,k])\n",
    "            for j in range(n):\n",
    "                A[i,j] = A[i,j] - s*A[k,j]\n",
    "                B[i,j] = B[i,j] - s*B[k,j]\n",
    "def lower_triangle2(A,B):\n",
    "    n,m = np.shape(A)\n",
    "    assert n==m\n",
    "    for k in range(n-1, -1, -1):\n",
    "        for i in range(k-1,-1,-1):\n",
    "            s=(A[i,k] / A[k,k])\n",
    "            for j in range(n):\n",
    "                A[i,j] = A[i,j] - s*A[k,j]\n",
    "                B[i,j] = B[i,j] - s*B[k,j]"
   ]
  },
  {
   "cell_type": "code",
   "execution_count": 11,
   "metadata": {},
   "outputs": [
    {
     "name": "stdout",
     "output_type": "stream",
     "text": [
      "Upper triangular transformed A = \n",
      "[[ 2.          3.         -4.        ]\n",
      " [ 0.         -5.5         8.        ]\n",
      " [ 0.          0.          4.18181818]]\n",
      "\n",
      "and following application of our lower triangular function = \n",
      "[[ 2.          0.          0.        ]\n",
      " [ 0.         -5.5         0.        ]\n",
      " [ 0.          0.          4.18181818]]\n",
      "\n",
      "Our final transformed A = \n",
      "[[ 1.  0.  0.]\n",
      " [-0.  1. -0.]\n",
      " [ 0.  0.  1.]]\n",
      "\n",
      "and the correspondingly transformed B = \n",
      "[[ 0.13043478  0.30434783 -0.04347826]\n",
      " [-0.04347826 -0.43478261  0.34782609]\n",
      " [-0.2173913  -0.17391304  0.23913043]]\n",
      "\n",
      "SciPy computes the inverse as:\n",
      "[[ 0.13043478  0.30434783 -0.04347826]\n",
      " [-0.04347826 -0.43478261  0.34782609]\n",
      " [-0.2173913  -0.17391304  0.23913043]]\n",
      "\n",
      "Success:  True\n"
     ]
    }
   ],
   "source": [
    "# Let's redefine A as our matrix above\n",
    "A = np.array([[2., 3., -4.],\n",
    "              [3., -1., 2.],\n",
    "              [4., 2., 2.]])\n",
    "\n",
    "# and B is the identity of the corresponding size\n",
    "B = np.eye(np.shape(A)[0])\n",
    "\n",
    "# transform A into upper triangular form \n",
    "# (and perform the same operations on B)\n",
    "upper_triangle2(A, B)\n",
    "print('Upper triangular transformed A = ')\n",
    "print(A)\n",
    "\n",
    "# now make this updated A lower triangular as well \n",
    "# (the result should be diagonal)\n",
    "lower_triangle2(A, B)\n",
    "print('\\nand following application of our lower triangular function = ')\n",
    "print(A)\n",
    "\n",
    "# The final step to achieve the identity is just to divide each row through by the value \n",
    "# of the diagonal to end up with 1's on the main diagonal and 0 everywhere else.\n",
    "for i in range(np.shape(A)[0]):\n",
    "    B[i, :] = B[i, :]/A[i, i]\n",
    "    A[i, :] = A[i, :]/A[i, i]\n",
    "\n",
    "# the final A should be the identity\n",
    "print('\\nOur final transformed A = ')\n",
    "print(A)\n",
    "\n",
    "# the final B should therefore be the inverse of the original B\n",
    "print('\\nand the correspondingly transformed B = ')\n",
    "print(B)\n",
    "\n",
    "# let's compute the inverse using built-in functions and check\n",
    "# we get the same answer (we need to reinitialise A)\n",
    "A = np.array([[2., 3., -4.], [3., -1., 2.], [4., 2., 2.]])\n",
    "print('\\nSciPy computes the inverse as:')\n",
    "print(sl.inv(A))\n",
    "\n",
    "# B should now store the inverse of the original A - let's check\n",
    "print('\\nSuccess: ', np.allclose(B, sl.inv(A)))"
   ]
  },
  {
   "cell_type": "code",
   "execution_count": 12,
   "metadata": {},
   "outputs": [
    {
     "name": "stdout",
     "output_type": "stream",
     "text": [
      "swapping rows 2 and 0\n",
      "\n",
      "A and b with row swaps:\n",
      "[[ 4.   2.   2. ]\n",
      " [ 0.  -2.5  0.5]\n",
      " [ 0.   0.  -4.6]]\n",
      "[[ 0.13043478  0.30434783 -0.04347826]\n",
      " [-0.04347826 -0.43478261  0.34782609]\n",
      " [-0.2173913  -0.17391304  0.23913043]]\n",
      "[[ 2.          3.         -4.        ]\n",
      " [ 0.         -5.5         8.        ]\n",
      " [ 0.          0.          4.18181818]]\n",
      "[[ 0.13043478  0.30434783 -0.04347826]\n",
      " [-0.04347826 -0.43478261  0.34782609]\n",
      " [-0.2173913  -0.17391304  0.23913043]]\n",
      "\n",
      " These two upper triangular systems are equivalent(i.e. have the same solution): True\n"
     ]
    }
   ],
   "source": [
    "def swap_row(A,b,i,j):\n",
    "    if i == j:\n",
    "        return\n",
    "    print('swapping rows', i, 'and',j)\n",
    "    iA = np.copy(A[i,:])\n",
    "    ib = np.copy(b[i])\n",
    "    A[i,:] = A[j,:]\n",
    "    b[i] = b[j]\n",
    "    A[j,:] = iA\n",
    "    b[j] = ib\n",
    "\n",
    "def upper_triangle_pp(A,b):\n",
    "    n = np.size(b)\n",
    "    rows, cols =np.shape(A)\n",
    "    assert rows == cols\n",
    "    assert rows ==n\n",
    "    for k in range(n-1):\n",
    "        kmax = k\n",
    "        for i in range(k+1,n):\n",
    "            if abs(A[kmax,k]) < abs(A[i,k]):\n",
    "                kmax = i\n",
    "        swap_row(A,b,kmax,k)\n",
    "        for i in range(k+1,n):\n",
    "            s = (A[i,k] / A[k,k])\n",
    "            for j in range(k,n):\n",
    "                A[i,j] = A[i,j] - s*A[k,j]\n",
    "            b[i] = b[i] - s*b[k]\n",
    "\n",
    "A = np.array([[2., 3.,-4.],\n",
    "              [3.,-1., 2.],\n",
    "              [4., 2., 2.,]])\n",
    "b = np.array([10.,3.,8.])\n",
    "upper_triangle_pp(A,b)\n",
    "print('\\nA and b with row swaps:')\n",
    "print(A)\n",
    "print(B)\n",
    "x1 = back_substitution(A,b)\n",
    "A = np.array([\n",
    "              [2.,3.,-4.],\n",
    "              [3.,-1.,2.],\n",
    "              [4.,2.,2.] \n",
    "])\n",
    "b = np.array([10.,3.,8.,])\n",
    "upper_triangle(A,b) \n",
    "print(A)\n",
    "print(B)\n",
    "x2 = back_substitution(A,b)\n",
    "print('\\n These two upper triangular systems are equivalent(i.e. have the same solution):', np.allclose(x1,x2))\n"
   ]
  }
 ],
 "metadata": {
  "kernelspec": {
   "display_name": "Python 3.9.12 ('base')",
   "language": "python",
   "name": "python3"
  },
  "language_info": {
   "codemirror_mode": {
    "name": "ipython",
    "version": 3
   },
   "file_extension": ".py",
   "mimetype": "text/x-python",
   "name": "python",
   "nbconvert_exporter": "python",
   "pygments_lexer": "ipython3",
   "version": "3.9.12"
  },
  "orig_nbformat": 4,
  "vscode": {
   "interpreter": {
    "hash": "88279d2366fe020547cde40dd65aa0e3aa662a6ec1f3ca12d88834876c85e1a6"
   }
  }
 },
 "nbformat": 4,
 "nbformat_minor": 2
}
