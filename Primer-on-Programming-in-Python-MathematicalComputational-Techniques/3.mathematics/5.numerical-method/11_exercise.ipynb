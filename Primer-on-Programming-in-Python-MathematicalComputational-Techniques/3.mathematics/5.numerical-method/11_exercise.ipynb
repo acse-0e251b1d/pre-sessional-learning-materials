{
 "cells": [
  {
   "cell_type": "code",
   "execution_count": 2,
   "metadata": {},
   "outputs": [
    {
     "name": "stdout",
     "output_type": "stream",
     "text": [
      "[[10.  2.  1.]\n",
      " [ 6.  5.  4.]\n",
      " [ 1.  4.  7.]]\n"
     ]
    }
   ],
   "source": [
    "import numpy as np\n",
    "A = np.array( [[10.,2.,1.],\n",
    "              [6. ,5.,4.],\n",
    "              [1.,4.,7.]])\n",
    "print(A)              "
   ]
  },
  {
   "cell_type": "code",
   "execution_count": 3,
   "metadata": {},
   "outputs": [
    {
     "name": "stdout",
     "output_type": "stream",
     "text": [
      "2\n"
     ]
    }
   ],
   "source": [
    "print(np.ndim(A))"
   ]
  },
  {
   "cell_type": "code",
   "execution_count": 4,
   "metadata": {},
   "outputs": [
    {
     "name": "stdout",
     "output_type": "stream",
     "text": [
      "(3, 3)\n"
     ]
    }
   ],
   "source": [
    "print(np.shape(A))"
   ]
  },
  {
   "cell_type": "code",
   "execution_count": 5,
   "metadata": {},
   "outputs": [
    {
     "name": "stdout",
     "output_type": "stream",
     "text": [
      "[[10.  6.  1.]\n",
      " [ 2.  5.  4.]\n",
      " [ 1.  4.  7.]]\n"
     ]
    }
   ],
   "source": [
    "print(A.T)"
   ]
  },
  {
   "cell_type": "code",
   "execution_count": 6,
   "metadata": {},
   "outputs": [
    {
     "name": "stdout",
     "output_type": "stream",
     "text": [
      "[[ 0.14285714 -0.07518797  0.02255639]\n",
      " [-0.28571429  0.51879699 -0.2556391 ]\n",
      " [ 0.14285714 -0.28571429  0.28571429]]\n"
     ]
    }
   ],
   "source": [
    "import scipy.linalg as sl\n",
    "print(sl.inv(A))"
   ]
  },
  {
   "cell_type": "code",
   "execution_count": 7,
   "metadata": {},
   "outputs": [
    {
     "name": "stdout",
     "output_type": "stream",
     "text": [
      "133.00000000000003\n"
     ]
    }
   ],
   "source": [
    "print(sl.det(A))"
   ]
  },
  {
   "cell_type": "code",
   "execution_count": 8,
   "metadata": {},
   "outputs": [
    {
     "name": "stdout",
     "output_type": "stream",
     "text": [
      "[[ 1.00000000e+00  0.00000000e+00  0.00000000e+00]\n",
      " [-2.22044605e-16  1.00000000e+00  2.22044605e-16]\n",
      " [-8.32667268e-17 -1.11022302e-16  1.00000000e+00]]\n"
     ]
    }
   ],
   "source": [
    "print(A @ sl.inv(A))\n",
    "print()"
   ]
  },
  {
   "cell_type": "code",
   "execution_count": 9,
   "metadata": {},
   "outputs": [
    {
     "name": "stdout",
     "output_type": "stream",
     "text": [
      "[[ 1.00000000e+00  0.00000000e+00  0.00000000e+00]\n",
      " [-2.22044605e-16  1.00000000e+00  2.22044605e-16]\n",
      " [-8.32667268e-17 -1.11022302e-16  1.00000000e+00]]\n",
      "\n",
      "\n",
      "[[ 1.00000000e+00  0.00000000e+00  0.00000000e+00]\n",
      " [-2.22044605e-16  1.00000000e+00  2.22044605e-16]\n",
      " [-8.32667268e-17 -1.11022302e-16  1.00000000e+00]]\n"
     ]
    }
   ],
   "source": [
    "print(np.dot(A,sl.inv(A)))\n",
    "print('\\n')\n",
    "print(A.dot(sl.inv(A)))\n"
   ]
  },
  {
   "cell_type": "code",
   "execution_count": 11,
   "metadata": {},
   "outputs": [
    {
     "name": "stdout",
     "output_type": "stream",
     "text": [
      "[0. 0. 0.]\n",
      "\n",
      "\n",
      "[[0. 0. 0.]\n",
      " [0. 0. 0.]\n",
      " [0. 0. 0.]]\n"
     ]
    }
   ],
   "source": [
    "print(np.zeros(3))\n",
    "print('\\n')\n",
    "print(np.zeros((3,3)))"
   ]
  },
  {
   "cell_type": "code",
   "execution_count": 12,
   "metadata": {},
   "outputs": [
    {
     "name": "stdout",
     "output_type": "stream",
     "text": [
      "[[1. 0. 0.]\n",
      " [0. 1. 0.]\n",
      " [0. 0. 1.]]\n"
     ]
    }
   ],
   "source": [
    "print(np.eye(3))"
   ]
  },
  {
   "cell_type": "code",
   "execution_count": 16,
   "metadata": {},
   "outputs": [
    {
     "name": "stdout",
     "output_type": "stream",
     "text": [
      "<class 'numpy.ndarray'>\n"
     ]
    },
    {
     "data": {
      "text/plain": [
       "numpy.matrix"
      ]
     },
     "execution_count": 16,
     "metadata": {},
     "output_type": "execute_result"
    }
   ],
   "source": [
    "A = np.array( [[10.,2.,1.],\n",
    "              [6. ,5.,4.],\n",
    "              [1.,4.,7.]])\n",
    "print(type(A))\n",
    "type(np.mat(A))"
   ]
  },
  {
   "cell_type": "code",
   "execution_count": 17,
   "metadata": {},
   "outputs": [
    {
     "name": "stdout",
     "output_type": "stream",
     "text": [
      "[[ 1.00000000e+00  0.00000000e+00  0.00000000e+00]\n",
      " [-2.22044605e-16  1.00000000e+00  2.22044605e-16]\n",
      " [-8.32667268e-17 -1.11022302e-16  1.00000000e+00]]\n"
     ]
    }
   ],
   "source": [
    "print(np.mat(A) * np.mat(sl.inv(A)))"
   ]
  },
  {
   "cell_type": "code",
   "execution_count": 20,
   "metadata": {},
   "outputs": [
    {
     "name": "stdout",
     "output_type": "stream",
     "text": [
      "2.0\n",
      "[10.  2.  1.]\n",
      "[1. 4. 7.]\n",
      "[2. 5. 4.]\n",
      "[[5. 4.]\n",
      " [4. 7.]]\n"
     ]
    }
   ],
   "source": [
    "print(A[0,1])\n",
    "print(A[0,:])\n",
    "print(A[-1,:])\n",
    "print(A[:,1])\n",
    "print(A[1:3,1:3])\n"
   ]
  },
  {
   "cell_type": "code",
   "execution_count": 24,
   "metadata": {},
   "outputs": [
    {
     "name": "stdout",
     "output_type": "stream",
     "text": [
      "det A =  -11.0\n",
      "A^-1 @ b =  [3.36363636 0.09090909]\n"
     ]
    }
   ],
   "source": [
    "A = np.array([[2., 3.],\n",
    "              [1., -4.]])\n",
    "print('det A = ', sl.det(A))\n",
    "b = np.array([7.,3.])\n",
    "print('A^-1 @ b = ', sl.inv(A)@ b)"
   ]
  },
  {
   "cell_type": "code",
   "execution_count": 25,
   "metadata": {},
   "outputs": [
    {
     "name": "stdout",
     "output_type": "stream",
     "text": [
      "A^-1 @ b = [3.36363636 0.09090909]\n"
     ]
    }
   ],
   "source": [
    "print('A^-1 @ b =',sl.solve(A,b))"
   ]
  },
  {
   "cell_type": "code",
   "execution_count": 26,
   "metadata": {},
   "outputs": [
    {
     "name": "stdout",
     "output_type": "stream",
     "text": [
      "True\n"
     ]
    }
   ],
   "source": [
    "print(np.allclose(np.array([37./11., 1./11.]), sl.solve(A,b)))"
   ]
  },
  {
   "cell_type": "code",
   "execution_count": 30,
   "metadata": {},
   "outputs": [
    {
     "name": "stdout",
     "output_type": "stream",
     "text": [
      "A = [[1 2 3]\n",
      " [4 5 6]\n",
      " [7 8 9]]\n",
      "b = [2 4 6]\n",
      "size of A: 9 and shape of A: (3, 3)\n",
      "size of b: 3 and shape of b: (3,)\n",
      "I =  [[1. 0. 0.]\n",
      " [0. 1. 0.]\n",
      " [0. 0. 1.]]\n",
      "A= [[ 2.  2.  3.]\n",
      " [ 4.  6.  6.]\n",
      " [ 7.  8. 10.]]\n",
      "A = [[2. 2. 2.]\n",
      " [4. 6. 4.]\n",
      " [7. 8. 6.]]\n",
      "x =  [0. 0. 1.]\n"
     ]
    }
   ],
   "source": [
    "A = np.array([[1, 2, 3],\n",
    "              [4, 5, 6],\n",
    "              [7, 8, 9]])\n",
    "b = np.array([2,4,6])\n",
    "print('A =',A)\n",
    "print('b =',b)\n",
    "print('size of A:',A.size,'and shape of A:',A.shape)\n",
    "print('size of b:',b.size,'and shape of b:',b.shape)\n",
    "I = np.eye(3)\n",
    "print('I = ',I)\n",
    "A = A + I\n",
    "print('A=',A)\n",
    "A[:,2] = b\n",
    "print(\"A =\", A)\n",
    "x = sl.solve(A,b)\n",
    "print('x = ',x)"
   ]
  }
 ],
 "metadata": {
  "kernelspec": {
   "display_name": "Python 3.9.12 ('base')",
   "language": "python",
   "name": "python3"
  },
  "language_info": {
   "codemirror_mode": {
    "name": "ipython",
    "version": 3
   },
   "file_extension": ".py",
   "mimetype": "text/x-python",
   "name": "python",
   "nbconvert_exporter": "python",
   "pygments_lexer": "ipython3",
   "version": "3.9.12"
  },
  "orig_nbformat": 4,
  "vscode": {
   "interpreter": {
    "hash": "88279d2366fe020547cde40dd65aa0e3aa662a6ec1f3ca12d88834876c85e1a6"
   }
  }
 },
 "nbformat": 4,
 "nbformat_minor": 2
}
