{
 "cells": [
  {
   "cell_type": "code",
   "execution_count": 4,
   "metadata": {},
   "outputs": [
    {
     "name": "stdout",
     "output_type": "stream",
     "text": [
      "array([[ 5.,  7.,  5.,  9.],\n",
      "       [ 5., 14.,  7., 10.],\n",
      "       [20., 77., 41., 48.],\n",
      "       [25., 91., 55., 67.]])\n",
      "question 1\n",
      "array([[ 1,  0,  0,  0],\n",
      "       [-1,  1,  0,  0],\n",
      "       [-4, -7,  1,  0],\n",
      "       [-5, -8,  0,  1]])\n",
      "array([[ 1,  0,  0,  0],\n",
      "       [ 0,  1,  0,  0],\n",
      "       [ 0, -7,  1,  0],\n",
      "       [ 0,  6, -2,  1]])\n",
      "question 2\n",
      "array([[5., 7., 5., 9.],\n",
      "       [0., 7., 2., 1.],\n",
      "       [0., 0., 7., 5.],\n",
      "       [0., 0., 0., 4.]])\n",
      "question 3\n",
      "array([[ 5.,  7.,  5.,  9.],\n",
      "       [ 5., 14.,  7., 10.],\n",
      "       [20., 77., 41., 48.],\n",
      "       [25., 91., 55., 67.]])\n",
      "question4\n",
      "array([[1., 0., 0., 0.],\n",
      "       [1., 1., 0., 0.],\n",
      "       [4., 7., 1., 0.],\n",
      "       [5., 8., 2., 1.]])\n",
      "question5\n",
      "True\n"
     ]
    }
   ],
   "source": [
    "import numpy as np\n",
    "from scipy import linalg\n",
    "from pprint import pprint\n",
    "\n",
    "A = np.array([[5., 7., 5., 9.],\n",
    "              [5., 14., 7., 10.],\n",
    "              [20., 77., 41., 48],\n",
    "              [25., 91., 55., 67.]])\n",
    "L0 = np.array([[1,0,0,0],[-1,1,0,0],[-4,0,1,0],[-5,0,0,1]])\n",
    "L1 = np.array([[1,0,0,0],[0,1,0,0],[0,-7,1,0],[0,-8,0,1]])\n",
    "L2 = np.array([[1,0,0,0],[0,1,0,0],[0,0,1,0],[0,0,-2,1]])\n",
    "L0_ = linalg.inv(L0)\n",
    "L1_ = linalg.inv(L1)\n",
    "L2_ = linalg.inv(L2)\n",
    "pprint(A)\n",
    "\n",
    "print('question 1')\n",
    "pprint(np.dot(L0,L1))\n",
    "pprint(np.dot(L2,L1))\n",
    "\n",
    "print('question 2')\n",
    "U = np.dot(L2, np.dot(L1, np.dot(L0,A)))\n",
    "pprint(U)\n",
    "\n",
    "print('question 3')\n",
    "A = np.dot(L0_, np.dot(L1_, np.dot(L2_,U)))\n",
    "pprint(A)\n",
    "\n",
    "print('question4')\n",
    "L = np.dot(L0_, np.dot(L1_,L2_))\n",
    "pprint(L)\n",
    "\n",
    "print('question5')\n",
    "print(np.allclose(A,np.dot(L,U)))"
   ]
  },
  {
   "cell_type": "code",
   "execution_count": 10,
   "metadata": {},
   "outputs": [],
   "source": [
    "def LU_dec(A):\n",
    "    A = A.copy()\n",
    "    m,n = A.shape\n",
    "    L = np.identity(n)\n",
    "    for k in range(n):\n",
    "        for i in range(k+1,n):\n",
    "            s = (A[i,k] / A[k,k])\n",
    "            for j in range(k,n):\n",
    "                A[i,j] = A[i,j] - s*A[k,j]\n",
    "            L[i,k] = s \n",
    "    return L, A\n"
   ]
  },
  {
   "cell_type": "code",
   "execution_count": 11,
   "metadata": {},
   "outputs": [
    {
     "name": "stdout",
     "output_type": "stream",
     "text": [
      "array([[ 5.,  7.,  5.,  9.],\n",
      "       [ 5., 14.,  7., 10.],\n",
      "       [20., 77., 41., 48.],\n",
      "       [25., 91., 55., 67.]])\n",
      "array([[1., 0., 0., 0.],\n",
      "       [1., 1., 0., 0.],\n",
      "       [4., 7., 1., 0.],\n",
      "       [5., 8., 2., 1.]])\n",
      "array([[5., 7., 5., 9.],\n",
      "       [0., 7., 2., 1.],\n",
      "       [0., 0., 7., 5.],\n",
      "       [0., 0., 0., 4.]])\n",
      "True\n"
     ]
    }
   ],
   "source": [
    "A = np.array([[ 5., 7.,   5.,  9.],\n",
    "              [ 5., 14.,  7., 10.],\n",
    "              [20., 77., 41., 48.],\n",
    "              [25., 91. ,55., 67.]])\n",
    "\n",
    "L, U = LU_dec(A)\n",
    "\n",
    "pprint(A)\n",
    "pprint(L)\n",
    "pprint(U)\n",
    "print(np.allclose(np.dot(L,U), A))"
   ]
  },
  {
   "cell_type": "code",
   "execution_count": 12,
   "metadata": {},
   "outputs": [
    {
     "name": "stdout",
     "output_type": "stream",
     "text": [
      "A = [[ 5.  7.  5.  9.]\n",
      " [ 5. 14.  7. 10.]\n",
      " [20. 77. 41. 48.]\n",
      " [25. 91. 55. 67.]]\n",
      "P = [[0. 1. 0. 0.]\n",
      " [0. 0. 0. 1.]\n",
      " [0. 0. 1. 0.]\n",
      " [1. 0. 0. 0.]]\n",
      "L = [[ 1.          0.          0.          0.        ]\n",
      " [ 0.2         1.          0.          0.        ]\n",
      " [ 0.8        -0.375       1.          0.        ]\n",
      " [ 0.2         0.375       0.33333333  1.        ]]\n",
      "U = [[ 25.          91.          55.          67.        ]\n",
      " [  0.         -11.2         -6.          -4.4       ]\n",
      " [  0.           0.          -5.25        -7.25      ]\n",
      " [  0.           0.           0.           0.66666667]]\n"
     ]
    }
   ],
   "source": [
    "import scipy.linalg as sl\n",
    "\n",
    "A = np.array([[ 5., 7.,   5.,  9.],\n",
    "               [ 5., 14.,  7., 10.],\n",
    "               [20., 77., 41., 48.],\n",
    "               [25., 91. ,55., 67.]])\n",
    "print(\"A =\", A)\n",
    "\n",
    "P, L, U = sl.lu(A)\n",
    "print('P =',P)\n",
    "print('L =',L)\n",
    "print('U =',U)"
   ]
  },
  {
   "cell_type": "code",
   "execution_count": 13,
   "metadata": {},
   "outputs": [
    {
     "name": "stdout",
     "output_type": "stream",
     "text": [
      "A = [[25. 91. 55. 67.]\n",
      " [ 5.  7.  5.  9.]\n",
      " [20. 77. 41. 48.]\n",
      " [ 5. 14.  7. 10.]]\n",
      "P = [[1. 0. 0. 0.]\n",
      " [0. 1. 0. 0.]\n",
      " [0. 0. 1. 0.]\n",
      " [0. 0. 0. 1.]]\n",
      "[[ 1.          0.          0.          0.        ]\n",
      " [ 0.2         1.          0.          0.        ]\n",
      " [ 0.8        -0.375       1.          0.        ]\n",
      " [ 0.2         0.375       0.33333333  1.        ]]\n",
      "[[ 25.          91.          55.          67.        ]\n",
      " [  0.         -11.2         -6.          -4.4       ]\n",
      " [  0.           0.          -5.25        -7.25      ]\n",
      " [  0.           0.           0.           0.66666667]]\n",
      "True\n"
     ]
    }
   ],
   "source": [
    "A = np.array([[25. ,91. ,55. ,67.],\n",
    "               [ 5.,  7.,  5.,  9.], \n",
    "               [20., 77., 41., 48.],\n",
    "               [ 5., 14., 7.,  10.]])\n",
    "print(\"A =\", A)\n",
    "\n",
    "P, L, U = sl.lu(A)\n",
    "\n",
    "# P here is a 'permutation matrix' that performs\n",
    "# swaps based upon partial pivoting\n",
    "print(\"P =\", P)\n",
    "\n",
    "# The lower-triangular matrix\n",
    "print(L)\n",
    "\n",
    "# The upper-triangular matrix\n",
    "print(U)\n",
    "print(np.allclose(P@L@U, A))"
   ]
  },
  {
   "cell_type": "code",
   "execution_count": 14,
   "metadata": {},
   "outputs": [
    {
     "name": "stdout",
     "output_type": "stream",
     "text": [
      "array([[ 5.,  7.,  5.,  9.],\n",
      "       [ 5., 14.,  7., 10.],\n",
      "       [20., 77., 41., 48.],\n",
      "       [25., 91., 55., 67.]])\n",
      "array([[ 1.        ,  0.        ,  0.        ,  0.        ],\n",
      "       [ 0.2       ,  1.        ,  0.        ,  0.        ],\n",
      "       [ 0.8       , -0.375     ,  1.        ,  0.        ],\n",
      "       [ 0.2       ,  0.375     ,  0.33333333,  1.        ]])\n",
      "array([[ 25.        ,  91.        ,  55.        ,  67.        ],\n",
      "       [  0.        , -11.2       ,  -6.        ,  -4.4       ],\n",
      "       [  0.        ,   0.        ,  -5.25      ,  -7.25      ],\n",
      "       [  0.        ,   0.        ,   0.        ,   0.66666667]])\n",
      "array([[ 5.,  7.,  5.,  9.],\n",
      "       [ 5., 14.,  7., 10.],\n",
      "       [20., 77., 41., 48.],\n",
      "       [25., 91., 55., 67.]])\n",
      "True\n"
     ]
    }
   ],
   "source": [
    "def swap_rows(A,j,k):\n",
    "    B = np.copy(A[j,:])\n",
    "    C = np.copy(A[k,:])\n",
    "    A[k,:] = B\n",
    "    A[j,:] = C\n",
    "    return A\n",
    "\n",
    "def LU_dec_pp(A):\n",
    "    m,n = A.shape\n",
    "    A = A.copy()\n",
    "    P_ = np.identity(m)\n",
    "    L = np.identity(m)\n",
    "    for k in range(m):\n",
    "        j = np.argmax(abs(A[k:,k]))\n",
    "        j += k\n",
    "        A = swap_rows(A,j,k)\n",
    "        P_ = swap_rows(P_,j,k)\n",
    "        for j in range(k+1,m):\n",
    "            s = A[j,k] / A[k,k]\n",
    "            A[j,k:] -= A[k,k:]*s\n",
    "            L[j,k] = s\n",
    "    U = A\n",
    "    return P_.T, L, U\n",
    "\n",
    "A = np.array([  [5., 7., 5., 9.],\n",
    "                [5.,14., 7., 10.],\n",
    "                [20.,77.,41.,48],\n",
    "                [25.,91.,55.,67]])\n",
    "P,L,U = LU_dec_pp(A)\n",
    "pprint(A)\n",
    "pprint(L)\n",
    "pprint(U)\n",
    "pprint(np.dot(P, np.dot(L,U)))\n",
    "print(np.allclose(np.dot(P,np.dot(L,U)), A))"
   ]
  }
 ],
 "metadata": {
  "kernelspec": {
   "display_name": "Python 3.9.12 ('base')",
   "language": "python",
   "name": "python3"
  },
  "language_info": {
   "codemirror_mode": {
    "name": "ipython",
    "version": 3
   },
   "file_extension": ".py",
   "mimetype": "text/x-python",
   "name": "python",
   "nbconvert_exporter": "python",
   "pygments_lexer": "ipython3",
   "version": "3.9.12"
  },
  "orig_nbformat": 4,
  "vscode": {
   "interpreter": {
    "hash": "88279d2366fe020547cde40dd65aa0e3aa662a6ec1f3ca12d88834876c85e1a6"
   }
  }
 },
 "nbformat": 4,
 "nbformat_minor": 2
}
