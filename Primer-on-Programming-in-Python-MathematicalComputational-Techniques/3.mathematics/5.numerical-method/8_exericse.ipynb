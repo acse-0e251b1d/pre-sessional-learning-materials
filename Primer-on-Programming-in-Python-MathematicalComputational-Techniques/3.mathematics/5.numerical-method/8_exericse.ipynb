{
 "cells": [
  {
   "cell_type": "markdown",
   "metadata": {},
   "source": [
    "Example of BTCS applied for 1D rod with Dirichlet boundary previoulsy described:"
   ]
  },
  {
   "cell_type": "code",
   "execution_count": 17,
   "metadata": {},
   "outputs": [
    {
     "name": "stdout",
     "output_type": "stream",
     "text": [
      "L\n",
      " [[ 1.00000000e+00  0.00000000e+00  0.00000000e+00 ...  0.00000000e+00\n",
      "   0.00000000e+00  0.00000000e+00]\n",
      " [-1.00000000e+04  1.00000000e+00  0.00000000e+00 ...  0.00000000e+00\n",
      "   0.00000000e+00  0.00000000e+00]\n",
      " [ 0.00000000e+00 -4.99750125e-01  1.00000000e+00 ...  0.00000000e+00\n",
      "   0.00000000e+00  0.00000000e+00]\n",
      " ...\n",
      " [ 0.00000000e+00  0.00000000e+00  0.00000000e+00 ...  1.00000000e+00\n",
      "   0.00000000e+00  0.00000000e+00]\n",
      " [ 0.00000000e+00  0.00000000e+00  0.00000000e+00 ... -9.68735924e-01\n",
      "   1.00000000e+00  0.00000000e+00]\n",
      " [ 0.00000000e+00  0.00000000e+00  0.00000000e+00 ...  0.00000000e+00\n",
      "   0.00000000e+00  1.00000000e+00]]\n"
     ]
    }
   ],
   "source": [
    "import numpy as np\n",
    "import scipy as sp\n",
    "import matplotlib.pyplot as plt\n",
    "import copy\n",
    "\n",
    "L = 1\n",
    "dx = 0.01\n",
    "n = int(L/dx - 1)\n",
    "alpha = 1\n",
    "dt = 0.1\n",
    "\n",
    "a_old = np.zeros(n)\n",
    "a_new = np.zeros(n)\n",
    "\n",
    "a_old[0] = 0\n",
    "a_old[-1] = 100\n",
    "\n",
    "A = np.zeros((n,n))\n",
    "\n",
    "for j in range(n):\n",
    "    try:\n",
    "        A[j][j-1] = -alpha/(dx**2)\n",
    "        A[j][j] = 1/ dt + 2 * alpha/(dx**2)\n",
    "        A[j][j+1] = -alpha/(dx**2)\n",
    "    except:\n",
    "        continue\n",
    "A[0][-1] = 0 #avoid right corner vague\n",
    "## applying dirichlet boundary condition\n",
    "A[0,0] = 1\n",
    "A[0,1] = 0\n",
    "A[-1, -2] = 0\n",
    "A[-1, -1] = 1\n",
    "#print(A)\n",
    "\n",
    "L = np.zeros((n,n))\n",
    "U = np.zeros((n,n))\n",
    "L[0,0] = 1\n",
    "U[0,0] = A[0,0]\n",
    "\n",
    "for j in range(1,n):\n",
    "    L[j,j] = 1\n",
    "    L[j,j-1] = A[j][j-1] / U[j-1][j-1]\n",
    "    U[j-1,j] = A[j-1][j]\n",
    "    U[j,j] = A[j][j] - L[j][j-1] * A[j-1][j]\n",
    "print(\"L\\n\",L)\n",
    "#print(\"U\\n\",U)\n",
    "\n",
    "#\n",
    "#print(\"temperature with initial conditions\")\n",
    "#print(a_old)\n"
   ]
  },
  {
   "cell_type": "code",
   "execution_count": 18,
   "metadata": {},
   "outputs": [
    {
     "name": "stdout",
     "output_type": "stream",
     "text": [
      "Temperature for final timestep\n",
      "[  0.           0.31327884   0.62655768   0.93999308   1.25384584\n",
      "   1.56840277   1.88396128   2.2008244    2.51929886   2.83969425\n",
      "   3.16232271   3.48749887   3.81553989   4.14676567   4.48149898\n",
      "   4.82006579   5.16279544   5.51002098   5.86207944   6.21931214\n",
      "   6.58206501   6.95068888   7.32553985   7.70697958   8.09537568\n",
      "   8.49110202   8.8945391    9.30607441   9.72610281  10.15502688\n",
      "  10.59325733  11.04121339  11.49932318  11.96802415  12.4477635\n",
      "  12.93899857  13.4421973   13.9578387   14.48641324  15.02842339\n",
      "  15.58438405  16.15482304  16.74028162  17.34131502  17.95849291\n",
      "  18.5924      19.24363654  19.91281895  20.60058035  21.30757118\n",
      "  22.03445981  22.78193321  23.55069752  24.3414788   25.15502366\n",
      "  25.99209999  26.8534977   27.74002941  28.65253127  29.59186375\n",
      "  30.55891241  31.55458876  32.57983114  33.63560555  34.72290662\n",
      "  35.84275851  36.99621589  38.18436492  39.4083243   40.66924628\n",
      "  41.96831779  43.30676153  44.68583713  46.10684235  47.57111426\n",
      "  49.08003054  50.63501076  52.23751772  53.88905881  55.59118745\n",
      "  57.34550456  59.15366001  61.01735424  62.93833981  64.91842309\n",
      "  66.95946593  69.0633874   71.23216562  73.46783962  75.77251126\n",
      "  78.14834715  80.59758079  83.12251457  85.72552199  88.40904988\n",
      "  91.1756207   94.0278349   96.96837338 100.        ]\n"
     ]
    }
   ],
   "source": [
    "timestep = [a_old]\n",
    "for i in range(0,10):\n",
    "    b = (1/dt) * copy.deepcopy(a_old)\n",
    "    b[0] = 0\n",
    "    b[-1] = 100\n",
    "\n",
    "    UX = np.zeros(n)\n",
    "    for i in range(n-1, -1, -1):\n",
    "        tmp = b[i]\n",
    "        for j in range(n-1, i, -1):\n",
    "            tmp -= UX[j] * L[i,j]\n",
    "        UX[i] = tmp/L[i,i]\n",
    "    #print(\"UX\",UX)\n",
    "\n",
    "    X = np.zeros(n)\n",
    "    for i in range(n-1, -1, -1):\n",
    "        tmp = UX[i]\n",
    "        for j in range(n-1, -1, -1):\n",
    "            tmp -= X[j] * U[i,j]\n",
    "        X[i] = tmp/U[i,i]\n",
    "    #print(\"X\\n\",X)\n",
    "    a_old = copy.deepcopy(X)\n",
    "    a_new = np.zeros(n)\n",
    "    timestep.append(a_old)\n",
    "print(\"Temperature for final timestep\")\n",
    "print(a_old)\n"
   ]
  },
  {
   "cell_type": "code",
   "execution_count": null,
   "metadata": {},
   "outputs": [],
   "source": [
    "plt.figure(figsize=(7,5))\n",
    "for i in range(len(timestep)):\n",
    "    plt.plot(list(np.linspace(0,1,n)), timestep[i], \n",
    "            label=\"t=%.1f s\"%(i*dt))\n",
    "plt.title(\"1D heat equation in a rod of length 1\", fontsize=14)\n",
    "plt.grid(True)\n",
    "plt.xlabel(\"Length\", fontsize=14)\n",
    "plt.ylabel(\"Temperature\", fontsize=14)\n",
    "plt.legend()\n",
    "plt.show()"
   ]
  },
  {
   "cell_type": "markdown",
   "metadata": {},
   "source": [
    "### myway"
   ]
  },
  {
   "cell_type": "code",
   "execution_count": null,
   "metadata": {},
   "outputs": [],
   "source": []
  }
 ],
 "metadata": {
  "kernelspec": {
   "display_name": "Python 3.9.12 ('base')",
   "language": "python",
   "name": "python3"
  },
  "language_info": {
   "codemirror_mode": {
    "name": "ipython",
    "version": 3
   },
   "file_extension": ".py",
   "mimetype": "text/x-python",
   "name": "python",
   "nbconvert_exporter": "python",
   "pygments_lexer": "ipython3",
   "version": "3.9.12"
  },
  "orig_nbformat": 4,
  "vscode": {
   "interpreter": {
    "hash": "88279d2366fe020547cde40dd65aa0e3aa662a6ec1f3ca12d88834876c85e1a6"
   }
  }
 },
 "nbformat": 4,
 "nbformat_minor": 2
}
