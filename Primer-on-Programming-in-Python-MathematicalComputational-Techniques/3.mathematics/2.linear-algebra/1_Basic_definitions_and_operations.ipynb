{
 "cells": [
  {
   "cell_type": "markdown",
   "metadata": {},
   "source": [
    "(linalg_basic_def)=\n",
    "# Basic definitions and operations\n",
    "\n",
    "We define a column vector $\\mathbf{x}$ with a bold lowercase letter (often $( \\vec{x} )$ and $( \\underline{x} \\\\$) are used, especially in writing) and a matrix $A$ with an uppercase letter, such that\n",
    "\n",
    "$ (\\mathbf{x}: \\quad \\mbox{n column vector} \\in \\mathbb{C}^n \\\\$\n",
    "    A: \\quad \\mbox{m $\\times$ n matrix} \\in \\mathbb{C}^{m \\times n}, \\\\)\n",
    "$$\n",
    "    \n",
    "where $m$ is the number of rows and $n$ is the number of columns in a matrix. The vector $\\mathbf{x}$ therefore has entries $x_i$ and the matrix $A$ has entries $a_{ij}$:\n",
    "\n",
    "$$ \\mathbf{x} = \\begin{pmatrix}\n",
    "x_1 \\\\ \n",
    "x_2 \\\\ \n",
    "\\vdots \\\\ \n",
    "x_n\n",
    "\\end{pmatrix}, \\qquad\n",
    "A = \\begin{pmatrix}\n",
    "a_{11} & a_{12} & \\cdots & a_{1n} \\\\\n",
    "a_{21} & a_{22} & \\cdots & a_{2n} \\\\\n",
    "\\vdots & \\vdots & \\ddots & \\vdots \\\\\n",
    "a_{m1} & a_{m2} & \\cdots & a_{mn}\n",
    "\\end{pmatrix}. \n",
    "$$\n",
    "\n",
    "Unless explicitly stated otherwise, all vectors in this notebook are column vectors. We will normally write row vectors as the transpose of column vectors:\n",
    "\n",
    "$$ \\begin{pmatrix} x_1 & x_2 & \\cdots & x_n \\end{pmatrix} = \\mathbf{x}^T. $$ \n",
    "\n",
    "## Transpose and conjugate transpose\n",
    "\n",
    "The **transpose** is an operator that swaps the rows and columns of a matrix, so that $A^T$ is an $n \\times m$ matrix with entries $a_{ji}$. Similarly, transposing a column vector results in a row vector, and vice versa. In general, for two matrices $A$ and $B$ of appropriate dimensions (i.e. we can add and/or multiply them - see below) and a scalar $\\alpha$:\n",
    "\n",
    "1. $(A + B)^T = A^T + B^T$\n",
    "2. $(\\alpha A)^T = \\alpha(A^T)$\n",
    "3. $(AB)^T = B^TA^T$\n",
    "4. $(A^T)^T = A$\n",
    "\n",
    "We also need to define **conjugate (Hermitian) transpose** of a matrix, denoted as $A^*$, $A^H$ and sometimes $A^\\dagger$ (*dagger*), which is obtained by taking the transpose and the complex conjugate of each entry:\n",
    "\n",
    "$$ A^* = (\\overline{A})^T = \\overline{(A^T)}. $$\n",
    "\n",
    "Remember that a conjugate of a complex number $z$ changes the sign of the imaginary part: $\\overline{z} = \\overline{a + ib} = a - ib$. If a matrix is real taking its conjugate leaves it unchanged, of course, since the imaginary part is zero.\n",
    "\n",
    "Matrix $A$ is **symmetric** if \\\\( A^T = A \\\\) and is **hermitian** if $A^* = A$.\n",
    "\n",
    "The main library for linear algebra in Python is Scipy, which builds on NumPy and NumPy's [ndarray](https://numpy.org/doc/stable/reference/generated/numpy.ndarray.html). NumPy does contain some linear algebra functions, sufficient for basic linear algebra needs."
   ]
  },
  {
   "cell_type": "code",
   "execution_count": 6,
   "metadata": {
    "scrolled": false,
    "tags": [
     "hide-input"
    ]
   },
   "outputs": [
    {
     "name": "stdout",
     "output_type": "stream",
     "text": [
      "A = \n",
      " [[1.+3.j 2.-4.j 3.+0.j]\n",
      " [4.+0.j 5.+1.j 6.-1.j]\n",
      " [7.-2.j 8.+4.j 9.-1.j]]\n",
      "A transpose = \n",
      " [[1.+3.j 4.+0.j 7.-2.j]\n",
      " [2.-4.j 5.+1.j 8.+4.j]\n",
      " [3.+0.j 6.-1.j 9.-1.j]]\n",
      "A conj. transpose = \n",
      " [[1.-3.j 4.-0.j 7.+2.j]\n",
      " [2.+4.j 5.-1.j 8.-4.j]\n",
      " [3.-0.j 6.+1.j 9.+1.j]]\n"
     ]
    }
   ],
   "source": [
    "import numpy as np\n",
    "\n",
    "A = np.array([[1. + 3.j, 2. - 4.j, 3.],\n",
    "              [4., 5. + 1.j, 6. - 1.j],\n",
    "              [7. - 2.j, 8. + 4.j, 9. - 1.j]])\n",
    "\n",
    "print('A = \\n', A)\n",
    "print('A transpose = \\n', A.T)\n",
    "print('A conj. transpose = \\n', A.T.conj())"
   ]
  },
  {
   "cell_type": "markdown",
   "metadata": {},
   "source": [
    "## Matrix addition and scalar multiplication\n",
    "\n",
    "Addition (and subtraction) on two matrices (or two vectors) is defined only for matrices with equal dimensions (we say they are *conformable for adition*), as it is performed by entrywise sum.  The resulting matrix will therefore have the same dimensions as the matrices being added. For example,\n",
    "\n",
    "$$ \\begin{pmatrix}\n",
    "a_{11} & a_{12} \\\\\n",
    "a_{21} & a_{22}\n",
    "\\end{pmatrix} + \\begin{pmatrix}\n",
    "b_{11} & b_{12} \\\\\n",
    "b_{21} & b_{22}\n",
    "\\end{pmatrix} = \\begin{pmatrix}\n",
    "a_{11} + b_{11} & a_{12} + b_{12} \\\\\n",
    "a_{21} + b_{21} & a_{22} + b_{22}\n",
    "\\end{pmatrix}, $$\n",
    "\n",
    "or more generally\n",
    "\n",
    "$$ C = A + B, \\text{ where } c_{ij} = a_{ij} + b_{ij}.$$\n",
    "\n",
    "**Properties:** matrix addition is a commutative and an associative operation, i.e. $A + B = B + A$ and $A + (B + C) = (A + B) + C$.\n",
    "\n",
    "A scalar $\\alpha$ multiplying a matrix multiplies each entry of the matrix:\n",
    "\n",
    "$$ B = \\alpha A, \\text{ where } b_{ij} = \\alpha a_{ij}. $$\n",
    "\n",
    "**Properties:** this operation is associative and distributive: $(\\alpha \\beta) A = \\alpha (\\beta A)$ and $\\alpha(A + B) = \\alpha A + \\alpha B$."
   ]
  },
  {
   "cell_type": "code",
   "execution_count": 7,
   "metadata": {
    "tags": [
     "hide-input"
    ]
   },
   "outputs": [
    {
     "name": "stdout",
     "output_type": "stream",
     "text": [
      "A = \n",
      " [[0. 1.]\n",
      " [2. 3.]]\n",
      "3*A = \n",
      " [[0. 3.]\n",
      " [6. 9.]]\n",
      "3*A - A = \n",
      " [[0. 2.]\n",
      " [4. 6.]]\n"
     ]
    }
   ],
   "source": [
    "A = np.arange(4.).reshape(2,2)\n",
    "\n",
    "print('A = \\n', A)\n",
    "print('3*A = \\n', 3*A)\n",
    "print('3*A - A = \\n', 3*A - A)"
   ]
  },
  {
   "cell_type": "markdown",
   "metadata": {},
   "source": [
    "## Matrix-vector multiplication\n",
    "\n",
    "``` {index} Matrix-vector multiplication\n",
    "```\n",
    "\n",
    "Let us consider a general matrix-vector multiplication, which is really just a special case of matrix-matrix multiplication.\n",
    "\n",
    "$$ \\mathbf{b} = A\\mathbf{x}, $$\n",
    "\n",
    "where $A \\in \\mathbb{C}^{m \\times n}$. $A$ and $\\mathbf{x}$ are conformable for multiplication iff the number of rows of $\\mathbf{x}$ is the same as the number of columns of A, i.e. $\\mathbf{x}$ has to be an $n \\times 1$ vector. The number of rows of $\\mathbf{b}$ will be equal to the number of rows of $A$ and the number of columns will be the same as in $\\mathbf{x}$. That means that a product of a matrix and a vector is an $m \\times 1$ vector.\n",
    "\n",
    "The map $\\mathbf{x} \\mapsto A\\mathbf{x}$ is [linear](https://en.wikipedia.org/wiki/Linear_map) as it satisfies\n",
    "\n",
    "1. $A(\\mathbf{x} + \\mathbf{y}) = A\\mathbf{x} + A\\mathbf{y}$\n",
    "2. $A(\\alpha \\mathbf{x}) = \\alpha A \\mathbf{x}$\n",
    "\n",
    "The entries of $\\mathbf{b}$ can be calculated with:\n",
    "\n",
    "$$ b_i = \\sum_{j=1}^n a_{ij}x_j,$$\n",
    "\n",
    "where $i = 1, \\dots, m$. Instead of looking at individual entries $a_{ij}$, let us consider the columns of A (vectors), which we denote as $\\mathbf{a}_j \\in \\mathbb{C}^m$. In *column picture* representation, matrix-vector multiplication can be written as\n",
    "\n",
    "$$ \\mathbf{b} = \\sum_{j=1}^n x_j\\mathbf{a}_j, $$\n",
    "\n",
    "or\n",
    "\n",
    "$$ \\begin{pmatrix}\n",
    " \\\\ b \\\\ \\\\\n",
    "\\end{pmatrix} = x_1 \\begin{pmatrix}\n",
    " \\\\ a_1 \\\\ \\\\\n",
    "\\end{pmatrix} + x_2 \\begin{pmatrix}\n",
    " \\\\ a_2 \\\\ \\\\\n",
    "\\end{pmatrix} + \\cdots + x_n \\begin{pmatrix}\n",
    " \\\\ a_n \\\\ \\\\\n",
    "\\end{pmatrix}, $$\n",
    "\n",
    "where $\\mathbf{a}_1$ is the first column of A and so on. We say that $\\mathbf{b}$ is *a linear combination of the columns of $A$*. Let us explain geometrically what this means.\n",
    "\n",
    "### Example: Geometric interpretation\n",
    "\n",
    "Consider the following 2-D matrix-vector multiplication which we can easily solve using what was shown above.\n",
    "\n",
    "$$ \\mathbf{b} = \\begin{pmatrix}\n",
    "2 & 1 \\\\ -2 & 3 \\end{pmatrix} \n",
    "\\begin{pmatrix} 1.5 \\\\ 2 \\end{pmatrix} = \n",
    "1.5 \\begin{pmatrix} 2 \\\\ -2 \\end{pmatrix} + \n",
    "2 \\begin{pmatrix} 1 \\\\ 3 \\end{pmatrix} = \n",
    "\\begin{pmatrix} 3 \\\\ -3 \\end{pmatrix} + \n",
    "\\begin{pmatrix} 2 \\\\ 6 \\end{pmatrix} = \n",
    "\\begin{pmatrix} 5 \\\\ 3 \\end{pmatrix}$$\n",
    "\n",
    "We see that the vector $\\mathbf{b}$ is a sum of scaled columns (vectors) of the  matrix, where the scaling factors come from the entries of the vector."
   ]
  },
  {
   "cell_type": "code",
   "execution_count": 8,
   "metadata": {
    "tags": [
     "hide-input"
    ]
   },
   "outputs": [
    {
     "data": {
      "image/png": "[encoded data removed]",
      "text/plain": [
       "<Figure size 432x288 with 1 Axes>"
      ]
     },
     "metadata": {
      "needs_background": "light"
     },
     "output_type": "display_data"
    }
   ],
   "source": [
    "import matplotlib.pyplot as plt\n",
    "\n",
    "\n",
    "def add_vct(vct, pos=[0, 0], c=None, label=True):\n",
    "    u, v = vct\n",
    "    x, y = pos\n",
    "        \n",
    "    plt.quiver(x, y, u, v, color=c, angles='xy', scale_units='xy', scale=1)\n",
    "    \n",
    "    if label == True:\n",
    "        plt.annotate((x + u, y + v), (x + u, y + v))\n",
    "        \n",
    "\n",
    "add_vct([3, -3], c='navy')\n",
    "add_vct([2, 6], c='red')\n",
    "add_vct([2, -2], c='lightskyblue')\n",
    "add_vct([1, 3], c='yellow')\n",
    "\n",
    "add_vct([2, 6], pos=[3, -3], c='lightgray', label=False)\n",
    "add_vct([3, -3], pos=[2, 6], c='lightgray', label=False)\n",
    "\n",
    "add_vct([5, 3], c='g')\n",
    "\n",
    "plt.xlim([-1, 6])\n",
    "plt.ylim([-4, 7])\n",
    "plt.grid()\n",
    "plt.show()"
   ]
  },
  {
   "cell_type": "markdown",
   "metadata": {},
   "source": [
    "## Matrix-matrix multiplication\n",
    "\n",
    "``` {index} Matrix-matrix multiplication\n",
    "```\n",
    "\n",
    "Finally, let us consider a multiplication of two matrices. Two matrices are conformable for multiplication if the number of columns of the first matrix is equal to the number of columns of the second matrix. That is,\n",
    "\n",
    "$$ C = AB, $$\n",
    "\n",
    "where $A$ is an $m \\times n$ matrix and $B$ is an $n \\times p$ matrix. As in the previous section, that means that the resulting $C$ has dimensions $m \\times p$ matrix, i.e. it has the same number of rows as $A$ and number of columns as $B$:\n",
    "\n",
    "$$ (m \\times n) \\times (n \\times p) = (m \\times p) $$\n",
    "\n",
    "The entries of $C$ can be calculated from entries of $A$ and $B$:\n",
    "\n",
    "$$ c_{ij} = \\sum_{k=1}^m a_{ik} b_{kj}. $$\n",
    "\n",
    "**Properties.** For $A$, $B$ and $C$ of conformable dimensions:\n",
    "1. $AI$ = $IA$ = $A$, where $I$ is the identity matrix\n",
    "2. associative: $A(BC) = (AB)C$\n",
    "3. distributive: $A(B + C) = AB + AC$\n",
    "4. **not** commutative: $(AB \\neq BA )$\n",
    "\n",
    "In general, matrix multiplication is not commutative, i.e. $( AB \\neq BA )$. We therefore need to consider separately what it means to *left-multiply* and *right-multiply* a matrix by another matrix.\n",
    "\n",
    "Let us explore that by thinking about matrix multiplication in a different way. Let us think of $C = AB$ as $B$ right-multiplying $A$. If we were to explicitly calculate $C$ using the above formula, we could convince ourself that $C = AB$ can be written as:\n",
    "\n",
    "$$ c_j = A b_j = \\sum_{k=1}^m b_{kj}a_k, $$\n",
    "\n",
    "where $c_j$ is the jth column of $C$ and $a_k$ is the kth column of $A$. From the above formula we see that the columns of $C$ are a linear combination of columns of $A$, with the coefficients coming from $B$.\n",
    "\n",
    "We can also think of $C = AB$ as matrix $A$ left-multiplying matrix $B$. Thought this way, \n",
    "\n",
    "$$ c_i = b_i A = \\sum_{k=1}^m a_{ik}b_k, $$\n",
    "\n",
    "where $c_i$ is the ith row of $C$ and $b_k$ is the kth row of $B$. Now rows of $C$ are a linear combination of rows of $A$. Of course, all of the above views will give the same result.\n",
    "\n",
    "To help visualise left- and right- multiplication described here, the reader is encouraged to visit [DZone](https://dzone.com/articles/visualizing-matrix). The below examples should additionally help with understanding this.\n",
    "\n",
    "### Example: rows x matrix, matrix x columns\n",
    "\n",
    "Consider a simple matrix multiplication:\n",
    "\n",
    "$$C = AB = \\begin{pmatrix} 2 & 1 \\\\ -2 & 3 \\end{pmatrix} \n",
    "\\begin{pmatrix} 5 & 0 \\\\ 2 & 4 \\end{pmatrix} $$\n",
    "\n",
    "Let us look at the *row picture* first and focus on the first row of $A$, $a_1 = (2, 1)$. Following the formula from above, this means that the first row of $C$ will be $2 \\times$ first row of $B + 1 \\times$ second row of $B$. So the first row of $C$ is \\\\( = 2(5, 0) + 1(2, 4) = (12, 4)\\\\). Similarly, the second row of $C$ is \\\\( = -2(5, 0) + 3(2, 4) = (-4, 12)\\\\).\n",
    "\n",
    "We should get the same product if we do column multiplication. For easier notation and formatting, here we will represent column vectors as transposed row vectors. The first column of $B$ is $(5, 2)^T$, which means that the first column of $C$ will be $5 \\times$ first column of $A + 2 \\times$ second column of $A$. The first column of $C$ is therefore $( = 5(2, -2)^T + 2(1, 3)^T = (12, -4)^T)$. Similarly for the second column of $C$, which is $( = 0(2, -2)^T + 4(1, 3)^T = (4, 12)^T.)$\n",
    "\n",
    "$$AB = \\begin{pmatrix} 2 & 1 \\\\ -2 & 3 \\end{pmatrix} \n",
    "\\begin{pmatrix} 5 & 0 \\\\ 2 & 4 \\end{pmatrix} =\n",
    "\\begin{pmatrix} 12 & 4 \\\\ -4 & 12 \\end{pmatrix} = C$$\n",
    "\n",
    "Let us use Python to verify that the result is indeed correct."
   ]
  },
  {
   "cell_type": "code",
   "execution_count": 9,
   "metadata": {
    "tags": [
     "hide-input"
    ]
   },
   "outputs": [
    {
     "name": "stdout",
     "output_type": "stream",
     "text": [
      "A @ B = \n",
      " [[12  4]\n",
      " [-4 12]]\n"
     ]
    }
   ],
   "source": [
    "A = np.array([[2, 1],\n",
    "              [-2, 3]])\n",
    "B = np.array([[5, 0],\n",
    "              [2, 4]])\n",
    "\n",
    "print('A @ B = \\n', A @ B)"
   ]
  },
  {
   "cell_type": "markdown",
   "metadata": {},
   "source": [
    "### Example: Permutations\n",
    "\n",
    "``` {index} Permutations\n",
    "```\n",
    "\n",
    "Matrix permutations are esentially acts of rearranging the entries of a matrix. We permute a matrix $A$ by left- or right-multiplying it with a permutation matrix. A [permutation matrix](https://en.wikipedia.org/wiki/Permutation_matrix) $P$ is a square matrix where every row and every column has a single 1 element and 0's elsewhere.\n",
    "\n",
    "Consider a simple $3 \\times 3$ matrix $A$:\n",
    "\n",
    "$$ A = \\begin{pmatrix} 1 & 2 & 3 \\\\ 4 & 5 & 6 \\\\ 7 & 8 & 9 \\end{pmatrix}. $$\n",
    "\n",
    "Let us think how we would, for example, swap the first and third row of this matrix. Remember that if we want to act on the rows of $A$ we need to left-multiply it by another matrix. In this case, this will be the permutation matrix $P$ which also has to be $3 \\times 3$. This is how we would achieve this:\n",
    "\n",
    "$$ PA =  \n",
    "\\begin{pmatrix} 0 & 0 & 1 \\\\ 0 & 1 & 0 \\\\ 1 & 0 & 0 \\end{pmatrix}\n",
    "\\begin{pmatrix} 1 & 2 & 3 \\\\ 4 & 5 & 6 \\\\ 7 & 8 & 9 \\end{pmatrix} = \n",
    "\\begin{pmatrix} 7 & 8 & 9 \\\\ 4 & 5 & 6 \\\\ 1 & 2 & 3 \\end{pmatrix} = B,$$\n",
    "\n",
    "where $B$ is the product of $PA$. What does the first row of $P$ do? The first row of $P$ is $(0, 0, 1)$ and it means that the first row of $B$ will be the following linear combination of the rows of $A$: $0(1, 2, 3) + 0(4, 5, 6) + 1(7, 8, 9)$. That is, the first row of $B$ will be just the last row of $A$. The second row of $P$ is $(0, 1, 0)$ and it means that the second row of $B$ will be equal to the second row of $A$, i.e. it will remain unchanged. The last row of $P$ is $(1, 0, 0)$ which means that the last row of $B$ will be equal to the first row of $A$.\n",
    "\n",
    "Let us now imagine we want to swap the first and second columns of $A$. Remember that now we have to right-multiply since we are acting on the columns of $A$. We will again provide the solution and then explain how we got to it.\n",
    "\n",
    "$$ AP = \n",
    "\\begin{pmatrix} 1 & 2 & 3 \\\\ 4 & 5 & 6 \\\\ 7 & 8 & 9 \\end{pmatrix} \n",
    "\\begin{pmatrix} 0 & 1 & 0 \\\\ 1 & 0 & 0 \\\\ 0 & 0 & 1 \\end{pmatrix} =\n",
    "\\begin{pmatrix} 2 & 1 & 3 \\\\ 5 & 4 & 6 \\\\ 8 & 7 & 9 \\end{pmatrix} = B$$\n",
    "\n",
    "We now need to look at the columns of $P$. If we want the first column of $B$ to be equal to the second column of $A$, the first column of $P$ must be $(0, 1, 0)^T$. Then the first column of $B$ is the following linear combination of the columns of $A$: $0(1, 4, 7)^T + 1(2, 5, 8)^T + 0(3, 6, 9)^T = (2, 5, 8)^T$, where we again denote column vectors as the transposed row vectors for easier formatting. Similarly for the second and third column.\n",
    "\n",
    "What if we wanted to swap the rows or columns back to their original positions? This requires us to find an *inverse matrix* of the permutation matrix, which would 'reverse' the permutation. In this case, the inverse is easily found: to swap the first and second row back, we simply need to swap them again! That means that the permutation matrix is equal to its inverse, $P^{-1} = P$. More about inverse matrices later."
   ]
  },
  {
   "cell_type": "markdown",
   "metadata": {},
   "source": [
    "### Example: Inner and outer product\n",
    "\n",
    "``` {index} Inner product\n",
    "```\n",
    "\n",
    "``` {index} Outer product\n",
    "```\n",
    "\n",
    "Let us consider another special case of matrix-matrix multiplication: multiplication of two vectors $\\mathbf{u} \\in \\mathbb{R}^m$ and $\\mathbf{v} \\in \\mathbb{R}^n$.\n",
    "\n",
    "The dot product of two vectors $\\mathbf{u}$ and $\\mathbf{v}$ is often called the *inner product* and is written like this in vector notation:\n",
    "\n",
    "$$ \\mathbf{u}^T \\mathbf{v} = \\begin{bmatrix}\n",
    "u_1 & u_2 & \\cdots & u_m \\end{bmatrix} \\begin{bmatrix}\n",
    "\\\\ \\mathbf{v} \\\\ \\\\\n",
    "\\end{bmatrix} = \\sum_{i=1}^m u_i v_i. $$\n",
    "\n",
    "Note that here $m$ must be equal to $n$. The product is a scalar, so it is also called a *scalar product*. A special type of inner product $\\mathbf{u}^T \\mathbf{u}$ is called the *Euclidean norm* or Euclidean distance, and it represents the *length* of a vector $\\mathbf{u}$. We cover this and other norms in more detail in another notebook.\n",
    "\n",
    "Similarly for the **outer product**, but now the product will be a matrix whose columns are simply linear combinations of $\\mathbf{u}$.\n",
    "\n",
    "$$ \\mathbf{u} \\mathbf{v}^T = \n",
    "\\begin{bmatrix} \\\\ \\mathbf{u} \\\\ \\\\ \\end{bmatrix} \n",
    "\\begin{bmatrix} v_1 & v_2 & \\cdots & v_n \\end{bmatrix} =\n",
    "\\left[ \\begin{array}{c|c|c|c|c} \\\\ v_1 \\mathbf{u} & v_2 \\mathbf{u} & \\cdots & v_n \\mathbf{u}\\\\ \\\\ \\end{array} \\right]$$\n",
    "\n",
    "Let us check this in Python with vectors $u = (1, 2, 3)^T$ and $v = (4, 5, 6)^T$."
   ]
  },
  {
   "cell_type": "code",
   "execution_count": 10,
   "metadata": {
    "tags": [
     "hide-input"
    ]
   },
   "outputs": [
    {
     "name": "stdout",
     "output_type": "stream",
     "text": [
      "u = \n",
      " [[1]\n",
      " [2]\n",
      " [3]]\n",
      "v = \n",
      " [[4]\n",
      " [5]\n",
      " [6]]\n",
      "\n",
      "u.T @ v = \n",
      " [[32]]\n",
      "\n",
      "u @ v.T = \n",
      " [[ 4  5  6]\n",
      " [ 8 10 12]\n",
      " [12 15 18]]\n"
     ]
    }
   ],
   "source": [
    "u = np.array([1, 2, 3]).reshape(-1, 1)\n",
    "v = np.array([4, 5, 6]).reshape(-1, 1)\n",
    "\n",
    "print('u = \\n', u)\n",
    "print('v = \\n', v )\n",
    "      \n",
    "print('\\nu.T @ v = \\n', u.T @ v)\n",
    "print('\\nu @ v.T = \\n', u @ v.T)"
   ]
  },
  {
   "cell_type": "markdown",
   "metadata": {},
   "source": [
    "---\n",
    "\n",
    "# Linear transformations\n",
    "\n",
    "``` {index} Linear transformation\n",
    "```\n",
    "\n",
    "Let us think what linear transformations (or maps or functions) actually mean. A function $f(\\cdot)$ represents our linear transformation, it means that\n",
    "\n",
    "$$ f(\\mathbf{x} + \\mathbf{y}) = f(\\mathbf{x}) + f(\\mathbf{y}) \\\\\n",
    "f(\\alpha \\mathbf{x}) = \\alpha f(\\mathbf{x}),$$\n",
    "\n",
    "for any vectors $\\mathbf{x}, \\mathbf{y}$, for example, and any scalar $c$. \n",
    "\n",
    "Almost everything we encountered in this notebook is a linear transformation! In fact, matrices are examples of linear maps. We can think of matrix-vector multiplication $A \\mathbf{x} = \\mathbf{b}$ as a vector $\\mathbf{x}$ being transformed into a new vector $\\mathbf{b}$. Let us look at a few examples of that.\n",
    "\n",
    "## Rotation\n",
    "\n",
    "A *rotation matrix* for counterclockwise rotation with angle $\\varphi$ is defined as:\n",
    "\n",
    "$$ \\begin{pmatrix} \\cos \\varphi & -\\sin \\varphi \\\\ \\sin \\varphi & \\cos \\varphi \\end{pmatrix}. $$\n",
    "\n",
    "Our mapping is then:\n",
    "\n",
    "$$ \\begin{pmatrix} \\cos \\varphi & -\\sin \\varphi \\\\ \\sin \\varphi & \\cos \\varphi \\end{pmatrix} \\begin{pmatrix} x \\\\ y \\end{pmatrix} = \\begin{pmatrix} x \\cos \\varphi - y \\sin \\varphi \\\\ x \\sin \\varphi + y \\cos \\varphi \\end{pmatrix},$$\n",
    "\n",
    "or equivalently:\n",
    "\n",
    "$$ (x, y) \\mapsto (x \\cos \\varphi - y \\sin \\varphi, x \\sin \\varphi + y \\cos \\varphi). $$\n",
    "\n",
    "## Shearing\n",
    "\n",
    "The horizontal and vertical shearing transformation matrices are defined, respectively, as:\n",
    "\n",
    "$$ \\begin{pmatrix} 1 & \\tan \\psi \\\\ 0 & 1 \\end{pmatrix}, \\quad \\begin{pmatrix} 1 & 0 \\\\ \\tan \\psi & 1 \\end{pmatrix}, $$\n",
    "\n",
    "where $\\psi$ is the shear angle. And the respective mappings are:\n",
    "\n",
    "$$ (x, y) \\mapsto (x + y \\tan \\psi, y) \\\\ \n",
    "(x, y) \\mapsto (x, x \\tan \\psi + y).$$\n",
    "\n",
    "## Squeezing\n",
    "\n",
    "The squeezing transformation matrix is defined as:\n",
    "\n",
    "$$ \\begin{pmatrix} k & 0 \\\\ 0 & 1/k \\end{pmatrix}, \\quad k \\in \\mathbb{R}.$$\n",
    "\n",
    "The mapping is:\n",
    "\n",
    "$$ (x, y) \\mapsto (kx, y/k). $$\n",
    "\n",
    "### Example with Python:\n",
    "\n",
    "Let us apply these three mappings to unit vectors $(1, 0)^T, (0, 1)^T$. We will rotate by $\\varphi = 30^\\circ$, squeeze by a factor $k = 1.3$ and shear horizontally by $\\psi = 45^\\circ$ from the vertical."
   ]
  },
  {
   "cell_type": "code",
   "execution_count": 14,
   "metadata": {
    "code_folding": [],
    "hidden": true,
    "solution": "hidden",
    "tags": [
     "hide-input"
    ]
   },
   "outputs": [
    {
     "data": {
      "image/png": "[encoded data removed]",
      "text/plain": [
       "<Figure size 1008x288 with 3 Axes>"
      ]
     },
     "metadata": {
      "needs_background": "light"
     },
     "output_type": "display_data"
    }
   ],
   "source": [
    "from matplotlib.patches import Polygon\n",
    "\n",
    "\n",
    "def add_vcts(v1, v2, color='k', fcolor=None):\n",
    "    ax.quiver(v1[0], v1[1], angles='xy', scale_units='xy', scale=1, color=color, zorder=10)\n",
    "    ax.quiver(v2[0], v2[1], angles='xy', scale_units='xy', scale=1, color=color, zorder=10)\n",
    "    ax.add_patch(Polygon([np.zeros(2,),v1,v1+v2,v2], fc=fcolor, alpha=0.7))\n",
    "\n",
    "\n",
    "titles = ['Rotation', 'Squeezing', 'Horiz. shearing']\n",
    "\n",
    "# unit vectors\n",
    "i = np.array([1,0])\n",
    "j = np.array([0,1])\n",
    "\n",
    "# rotation\n",
    "phi = np.pi / 6\n",
    "R = np.array([[np.cos(phi), -np.sin(phi)],\n",
    "              [np.sin(phi), np.cos(phi)]]) \n",
    "\n",
    "# squeezing\n",
    "k = 1.3\n",
    "S = np.array([[k, 0], [0, 1/k]])\n",
    "\n",
    "# shearing\n",
    "psi = np.pi / 4\n",
    "P = np.array([[1, np.tan(psi)], [0, 1]])\n",
    "\n",
    "fig = plt.figure(figsize=(14, 4))\n",
    "for n in range(1, 4):\n",
    "    ax = fig.add_subplot(1, 3, n) \n",
    "    ax.set_title(titles[n-1])\n",
    "    ax.grid(True)\n",
    "    \n",
    "    if n == 1:\n",
    "        i_ = R @ i\n",
    "        j_ = R @ j\n",
    "    elif n == 2:\n",
    "        i_ = S @ i\n",
    "        j_ = S @ j\n",
    "    else:\n",
    "        i_ = P@i\n",
    "        j_ = P@j\n",
    "    \n",
    "    add_vcts(i, j, 'b', 'lightblue')\n",
    "    add_vcts(i_, j_, 'r', 'mistyrose')"
   ]
  },
  {
   "cell_type": "markdown",
   "metadata": {
    "heading_collapsed": true,
    "solution2": "hidden",
    "solution2_first": true
   },
   "source": [
    "## General transformation\n",
    "\n",
    "Now consider a general matrix\n",
    "\n",
    "$$ \\begin{pmatrix} a & b \\\\ c & d \\end{pmatrix}. $$\n",
    "\n",
    "And let us think about how it transform the unit vectors  \n",
    "\n",
    "$$ \\begin{pmatrix} a & b \\\\ c & d \\end{pmatrix} \\begin{pmatrix} 1 \\\\ 0 \\end{pmatrix} = \\begin{pmatrix} a \\\\ c \\end{pmatrix}, \\qquad \n",
    "\\begin{pmatrix} a & b \\\\ c & d \\end{pmatrix} \\begin{pmatrix} 0 \\\\ 1 \\end{pmatrix} = \\begin{pmatrix} b \\\\ d \\end{pmatrix}.$$\n",
    "\n",
    "The matrix transformed our unit vectors into new vectors which are just the columns of the matrix. Let us plot this using Python:"
   ]
  },
  {
   "cell_type": "code",
   "execution_count": 18,
   "metadata": {
    "hidden": true,
    "solution2": "hidden",
    "tags": [
     "hide-input"
    ]
   },
   "outputs": [
    {
     "name": "stdout",
     "output_type": "stream",
     "text": [
      "[0.9 0.6] [0.2 1.1]\n",
      "[1.1 1.7]\n"
     ]
    },
    {
     "data": {
      "text/plain": [
       "(-0.2, 2.2)"
      ]
     },
     "execution_count": 18,
     "metadata": {},
     "output_type": "execute_result"
    },
    {
     "data": {
      "image/png": "[encoded data removed]",
      "text/plain": [
       "<Figure size 576x576 with 1 Axes>"
      ]
     },
     "metadata": {
      "needs_background": "light"
     },
     "output_type": "display_data"
    }
   ],
   "source": [
    "fig = plt.figure(figsize=(8, 8))\n",
    "ax = fig.add_subplot(111)\n",
    "ax.grid(True)\n",
    "\n",
    "ax.quiver(2,0, angles='xy', scale_units='xy', scale=1, color='k', zorder=10)\n",
    "ax.quiver(0,2, angles='xy', scale_units='xy', scale=1, color='k', zorder=10)\n",
    "\n",
    "ax.quiver(1,0, angles='xy', scale_units='xy', scale=1, color='b', zorder=10)\n",
    "ax.quiver(0,1, angles='xy', scale_units='xy', scale=1, color='b', zorder=10)\n",
    "\n",
    "# basis functions\n",
    "i = np.array([1,0])\n",
    "j = np.array([0,1])\n",
    "\n",
    "# transform them\n",
    "A = np.array([[0.9,0.2],[0.6,1.1]])\n",
    "i_ = A @ i\n",
    "j_ = A @ j\n",
    "print(i_,j_)\n",
    "# some borders\n",
    "add_vcts(i_, j_, color='r', fcolor='mistyrose')\n",
    "ax.plot([i_[0],i_[0]+j_[0]], [i_[1],i_[1]+j_[1]], color='r', zorder=10)\n",
    "ax.plot([j_[0],i_[0]+j_[0]], [j_[1],i_[1]+j_[1]], color='r', zorder=10)\n",
    "\n",
    "p = i+j  # point (1, 1)\n",
    "p_ = A @ p  # transform p\n",
    "print(p_)\n",
    "# plot the points\n",
    "ax.plot(p[0], p[1], 'bo')\n",
    "ax.plot(p_[0],p_[1],'ro')\n",
    "\n",
    "# add some text\n",
    "ax.text(p[0] + 0.05,p[1], \"$p$\", fontsize=12)\n",
    "ax.text(p_[0],p_[1]+0.05, \"$p'=(a+b,c+d)^T$\", fontsize=12)\n",
    "ax.text(i_[0]-0.2,i_[1]+0.01, \"$(a,c)^T$\", fontsize=12)\n",
    "ax.text(j_[0]+0.025,j_[1]-0.05, \"$(b,d)^T$\", fontsize=12)\n",
    "\n",
    "ax.set_xlim(-0.2,2.2)\n",
    "ax.set_ylim(-0.2,2.2)"
   ]
  },
  {
   "cell_type": "markdown",
   "metadata": {
    "hidden": true
   },
   "source": [
    "From this figure we could find that the area of the red parallelogram to be equal to $ad - bc$. This is equal to the cross product of the vectors $(a, c)^T$ and $(b, d)^T$, which are the columns of our matrix. We actually define the determinant of the matrix as the area of this parallelogram - but more on this in another notebook."
   ]
  },
  {
   "cell_type": "code",
   "execution_count": null,
   "metadata": {},
   "outputs": [],
   "source": []
  }
 ],
 "metadata": {
  "celltoolbar": "Tags",
  "kernelspec": {
   "display_name": "Python 3.9.12 ('base')",
   "language": "python",
   "name": "python3"
  },
  "language_info": {
   "codemirror_mode": {
    "name": "ipython",
    "version": 3
   },
   "file_extension": ".py",
   "mimetype": "text/x-python",
   "name": "python",
   "nbconvert_exporter": "python",
   "pygments_lexer": "ipython3",
   "version": "3.9.12"
  },
  "latex_envs": {
   "LaTeX_envs_menu_present": true,
   "autoclose": true,
   "autocomplete": true,
   "bibliofile": "biblio.bib",
   "cite_by": "apalike",
   "current_citInitial": 1,
   "eqLabelWithNumbers": false,
   "eqNumInitial": 1,
   "hotkeys": {
    "equation": "Ctrl-E",
    "itemize": "Ctrl-I"
   },
   "labels_anchors": false,
   "latex_user_defs": false,
   "report_style_numbering": false,
   "user_envs_cfg": false
  },
  "vscode": {
   "interpreter": {
    "hash": "88279d2366fe020547cde40dd65aa0e3aa662a6ec1f3ca12d88834876c85e1a6"
   }
  }
 },
 "nbformat": 4,
 "nbformat_minor": 2
}
